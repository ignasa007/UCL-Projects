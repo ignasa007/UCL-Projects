{
 "cells": [
  {
   "cell_type": "code",
   "execution_count": 1,
   "metadata": {},
   "outputs": [],
   "source": [
    "import numpy as np\n",
    "import matplotlib.pyplot as plt\n",
    "\n",
    "from ssm_kalman import run_ssm_kalman"
   ]
  },
  {
   "cell_type": "code",
   "execution_count": 3,
   "metadata": {},
   "outputs": [],
   "source": [
    "X = np.loadtxt('ssm_spins.txt').T\n",
    "Q_init = np.identity(4)\n",
    "y_init = np.random.multivariate_normal(np.zeros(4), Q_init)\n",
    "A = 0.99 * np.array([\n",
    "    [np.cos(2*np.pi/180), -np.sin(2*np.pi/180), 0, 0],\n",
    "    [np.sin(2*np.pi/180), np.cos(2*np.pi/180), 0, 0],\n",
    "    [0, 0, np.cos(2*np.pi/90), -np.sin(2*np.pi/90)],\n",
    "    [0, 0, np.sin(2*np.pi/90), np.cos(2*np.pi/90)],\n",
    "])\n",
    "Q = np.identity(4) - A@A.T\n",
    "C = np.array([\n",
    "    [1, 0, 1, 0],\n",
    "    [0, 1, 0, 1],\n",
    "    [1, 0, 0, 1],\n",
    "    [0, 0, 1, 1],\n",
    "    [0.5, 0.5, 0.5, 0.5]\n",
    "])\n",
    "R = np.identity(5)"
   ]
  },
  {
   "cell_type": "code",
   "execution_count": 32,
   "metadata": {},
   "outputs": [],
   "source": [
    "def maximisation(X, Y, V, Vj):\n",
    "\n",
    "    C_new = (X @ Y.T) @ np.linalg.inv(np.sum(V, axis=0))\n",
    "    A_new = np.sum(Vj[:-1], axis=0) @ np.linalg.inv(np.sum(V[1:], axis=0))\n",
    "    R_new = (X @ X.T - (X @ Y.T) @ C_new.T) / (X.shape[1])\n",
    "    Q_new = (np.sum(V[1:], axis=0) - np.sum(Vj[:-1], axis=0) @ A_new.T) / (X.shape[1]-1)\n",
    "\n",
    "    return A_new, Q_new, C_new, R_new"
   ]
  },
  {
   "cell_type": "code",
   "execution_count": 34,
   "metadata": {},
   "outputs": [
    {
     "name": "stderr",
     "output_type": "stream",
     "text": [
      "C:\\Users\\Jasraj\\AppData\\Local\\Temp\\ipykernel_16296\\3327806161.py:5: RuntimeWarning: overflow encountered in matmul\n",
      "  R_new = (X @ X.T - (X @ Y.T) @ C_new.T) / (X.shape[1])\n",
      "C:\\Users\\Jasraj\\AppData\\Local\\Temp\\ipykernel_16296\\361771552.py:47: RuntimeWarning: invalid value encountered in add\n",
      "  V_x_pred = C.dot(V_pred.dot(C.T)) + R\n",
      "c:\\Users\\Jasraj\\anaconda3\\lib\\site-packages\\numpy\\linalg\\linalg.py:2098: RuntimeWarning: invalid value encountered in slogdet\n",
      "  sign, logdet = _umath_linalg.slogdet(a, signature=signature)\n"
     ]
    }
   ],
   "source": [
    "n_runs, n_iterations = 5, 10\n",
    "log_ls_all = list()\n",
    "Q_init = np.identity(4)\n",
    "for run in range(n_runs):\n",
    "    log_ls = list()\n",
    "    y_init = np.random.multivariate_normal(np.zeros(4), Q_init)\n",
    "    A = np.random.uniform(size=(4, 4))\n",
    "    Q = np.random.uniform(size=(4, 4))\n",
    "    C = np.random.uniform(size=(5, 4))\n",
    "    R = np.random.uniform(size=(5, 5))\n",
    "    for iteration in range(n_iterations):\n",
    "        Y, V, Vj, L = run_ssm_kalman(X, y_init.copy(), Q_init.copy(), A, Q, C, R, mode='smooth')\n",
    "        A, Q, C, R = maximisation(X, Y, V, Vj)\n",
    "        # assert np.allclose(Q, Q.T) and np.allclose(R, R.T), f'Q =\\n{Q}\\nR =\\n{R}'\n",
    "        log_ls.append(np.sum(L))\n",
    "    log_ls_all.append(log_ls)"
   ]
  },
  {
   "cell_type": "code",
   "execution_count": 35,
   "metadata": {},
   "outputs": [
    {
     "data": {
      "image/png": "[encoded data removed]",
      "text/plain": [
       "<Figure size 640x480 with 1 Axes>"
      ]
     },
     "metadata": {},
     "output_type": "display_data"
    }
   ],
   "source": [
    "for log_ls in log_ls_all:\n",
    "    plt.plot(log_ls)\n",
    "plt.show()"
   ]
  },
  {
   "cell_type": "code",
   "execution_count": null,
   "metadata": {},
   "outputs": [],
   "source": []
  }
 ],
 "metadata": {
  "kernelspec": {
   "display_name": "base",
   "language": "python",
   "name": "python3"
  },
  "language_info": {
   "codemirror_mode": {
    "name": "ipython",
    "version": 3
   },
   "file_extension": ".py",
   "mimetype": "text/x-python",
   "name": "python",
   "nbconvert_exporter": "python",
   "pygments_lexer": "ipython3",
   "version": "3.8.8"
  }
 },
 "nbformat": 4,
 "nbformat_minor": 2
}
