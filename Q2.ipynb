{
 "cells": [
  {
   "cell_type": "markdown",
   "metadata": {},
   "source": [
    "# Model selection"
   ]
  },
  {
   "cell_type": "code",
   "execution_count": null,
   "metadata": {},
   "outputs": [],
   "source": [
    "from math import comb\n",
    "import numpy as np\n",
    "from scipy.special import beta, gamma"
   ]
  },
  {
   "cell_type": "code",
   "execution_count": 13,
   "metadata": {},
   "outputs": [
    {
     "data": {
      "text/plain": [
       "(100, 64)"
      ]
     },
     "execution_count": 13,
     "metadata": {},
     "output_type": "execute_result"
    }
   ],
   "source": [
    "dataset = np.loadtxt('binarydigits.txt')\n",
    "N, D = dataset.shape\n",
    "\n",
    "N, D"
   ]
  },
  {
   "cell_type": "markdown",
   "metadata": {},
   "source": [
    "We have $N = 100$ images, each with $D = 64$ pixels laid out as a vector, i.e., $\\mathbf{x}^{\\left(n\\right)} \\in \\mathbb{R}^D,\\ \\forall n\\in \\left\\{1,\\ldots,N\\right\\}$. "
   ]
  },
  {
   "cell_type": "code",
   "execution_count": 14,
   "metadata": {},
   "outputs": [],
   "source": [
    "relative_probs = dict()"
   ]
  },
  {
   "cell_type": "markdown",
   "metadata": {},
   "source": [
    "$$\n",
    "    \\mathbb{P}\\left(\\mathcal{M}_{\\left(a\\right)}|\\mathcal{D}\\right) \\propto 2^{-ND}\n",
    "$$"
   ]
  },
  {
   "cell_type": "code",
   "execution_count": 21,
   "metadata": {},
   "outputs": [],
   "source": [
    "relative_probs['Model (a)'] = 2**(-N*D)"
   ]
  },
  {
   "cell_type": "markdown",
   "metadata": {},
   "source": [
    "$$\n",
    "    \\mathbb{P}\\left(\\mathcal{M}_{\\left(b\\right)}|\\mathcal{D}\\right) \\propto B\\left(1+\\sum_{i=1}^N \\sum_{d=1}^D x_d^{\\left(n\\right)}, 1+ND-\\sum_{i=1}^N \\sum_{d=1}^D x_d^{\\left(n\\right)}\\right)\n",
    "$$"
   ]
  },
  {
   "cell_type": "code",
   "execution_count": 16,
   "metadata": {},
   "outputs": [],
   "source": [
    "relative_probs['Model (b)'] = beta(1+np.sum(dataset), 1+N*D-np.sum(dataset))"
   ]
  },
  {
   "cell_type": "markdown",
   "metadata": {},
   "source": [
    "$$\n",
    "    \\mathbb{P}\\left(\\mathcal{M}_{\\left(c\\right)}|\\mathcal{D}\\right) \\propto \\prod_{d=1}^D B\\left(1+\\sum_{i=1}^N x_d^{\\left(n\\right)},1+N-\\sum_{i=1}^N x_d^{\\left(n\\right)}\\right)\n",
    "$$"
   ]
  },
  {
   "cell_type": "code",
   "execution_count": 17,
   "metadata": {},
   "outputs": [],
   "source": [
    "relative_probs['Model (c)'] = np.prod(beta(1+np.sum(dataset, axis=0), 1+N-np.sum(dataset, axis=0)))"
   ]
  },
  {
   "cell_type": "code",
   "execution_count": 22,
   "metadata": {},
   "outputs": [
    {
     "data": {
      "text/plain": [
       "{'Model (a)': 0.0, 'Model (b)': 0.0, 'Model (c)': 0.0}"
      ]
     },
     "execution_count": 22,
     "metadata": {},
     "output_type": "execute_result"
    }
   ],
   "source": [
    "relative_probs"
   ]
  },
  {
   "cell_type": "markdown",
   "metadata": {},
   "source": [
    "The relative probabilities are infinitesimal, so they can't be directly worked with. We need to scale these probabilities up."
   ]
  },
  {
   "cell_type": "code",
   "execution_count": 61,
   "metadata": {},
   "outputs": [
    {
     "name": "stderr",
     "output_type": "stream",
     "text": [
      "c:\\Users\\Jasraj\\anaconda3\\lib\\site-packages\\numpy\\core\\fromnumeric.py:87: RuntimeWarning: overflow encountered in reduce\n",
      "  return ufunc.reduce(obj, axis, dtype, out, **passkwargs)\n"
     ]
    },
    {
     "data": {
      "text/plain": [
       "{'Model (b) wrt Model (a)': 1.5687974472456368e+66,\n",
       " 'Model (c) wrt Model (b)': inf}"
      ]
     },
     "execution_count": 61,
     "metadata": {},
     "output_type": "execute_result"
    }
   ],
   "source": [
    "relative_probs = dict()\n",
    "\n",
    "matrix_sum = int(np.sum(dataset))\n",
    "axis0_sum = np.sum(dataset, axis=0).astype(int)\n",
    "\n",
    "relative_probs['Model (b) wrt Model (a)'] = 2**(N*D) / comb(N*D, matrix_sum) / (N*D-1)\n",
    "relative_probs['Model (c) wrt Model (b)'] = np.prod((2**N / np.array([comb(N, x) / (N-1) for x in axis0_sum])) / (relative_probs['Model (b) wrt Model (a)'])**(1/D))\n",
    "\n",
    "relative_probs"
   ]
  },
  {
   "cell_type": "code",
   "execution_count": null,
   "metadata": {},
   "outputs": [],
   "source": []
  }
 ],
 "metadata": {
  "kernelspec": {
   "display_name": "Python 3",
   "language": "python",
   "name": "python3"
  },
  "language_info": {
   "codemirror_mode": {
    "name": "ipython",
    "version": 3
   },
   "file_extension": ".py",
   "mimetype": "text/x-python",
   "name": "python",
   "nbconvert_exporter": "python",
   "pygments_lexer": "ipython3",
   "version": "3.8.8"
  }
 },
 "nbformat": 4,
 "nbformat_minor": 2
}
