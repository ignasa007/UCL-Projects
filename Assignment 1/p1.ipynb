{
 "cells": [
  {
   "cell_type": "markdown",
   "id": "2dce0c09",
   "metadata": {},
   "source": [
    "# Part 1"
   ]
  },
  {
   "cell_type": "markdown",
   "id": "ca083262",
   "metadata": {},
   "source": [
    "## 1.1 Linear Regression"
   ]
  },
  {
   "cell_type": "code",
   "execution_count": 29,
   "id": "c574f125",
   "metadata": {},
   "outputs": [],
   "source": [
    "import pandas as pd\n",
    "import numpy as np\n",
    "import matplotlib.pyplot as plt\n",
    "from tqdm.notebook import tqdm"
   ]
  },
  {
   "cell_type": "code",
   "execution_count": 30,
   "id": "c8334cac",
   "metadata": {},
   "outputs": [],
   "source": [
    "import scienceplots\n",
    "plt.style.use(['science', 'no-latex'])"
   ]
  },
  {
   "cell_type": "code",
   "execution_count": 31,
   "id": "528e8d88",
   "metadata": {},
   "outputs": [],
   "source": [
    "def generate_sin_data(sigma, N):\n",
    "    \"\"\"\n",
    "    Function to generate X data from a uniform distribution and corresponding y data with normal errors.\n",
    "\n",
    "    Parameters\n",
    "    ----------\n",
    "    sigma : float \n",
    "        standard deviation of normal errors\n",
    "    N : int\n",
    "        number of data points\n",
    "\n",
    "    Returns\n",
    "    -------\n",
    "    X : ndarray\n",
    "        input data\n",
    "    y : ndarray\n",
    "        corresponding output data with normal error term\n",
    "\n",
    "    \"\"\"\n",
    "    X = np.random.uniform(0,1,N) \n",
    "    y = np.sin(2*np.pi*X)**2 + np.random.normal(0,sigma,N)\n",
    "    return X, y"
   ]
  },
  {
   "cell_type": "code",
   "execution_count": 32,
   "id": "34a0bd82",
   "metadata": {},
   "outputs": [],
   "source": [
    "def poly_feature_space(X, k):\n",
    "    \"\"\"\n",
    "    Function to create the polynomial feature space.\n",
    "    The function loops through all x applying polynomial basis of order to each data point.\n",
    "    The matrix rows correpsond to the ith data point.\n",
    "    The matrix columns correspond to the jth polynomial basis function.\n",
    "\n",
    "    Parameters\n",
    "    ----------\n",
    "    X : ndarray\n",
    "        input data\n",
    "    k : int\n",
    "        polynomial basis order\n",
    "\n",
    "    Returns\n",
    "    -------\n",
    "    phi : ndarray\n",
    "        polynomial feature space of order k\n",
    "\n",
    "    \"\"\"\n",
    "    # initiliase empty feature space matrix of dimension {len(X),k}\n",
    "    phi = np.zeros([len(X), k])\n",
    "    # iteratively fill feature space matrix\n",
    "    for i in range(len(X)):\n",
    "        for j in range(k):\n",
    "            phi[i,j]+=X[i]**j\n",
    "    return phi"
   ]
  },
  {
   "cell_type": "code",
   "execution_count": 53,
   "id": "bb94c0e4",
   "metadata": {},
   "outputs": [],
   "source": [
    "def optimal_weights(phi, y):\n",
    "    \"\"\"\n",
    "    Function to obtain the optimal weights.\n",
    "    The function performs the matrix operation (phi^T*phi)^-1*phi^T*y and returns the result.\n",
    "\n",
    "    Parameters\n",
    "    ----------\n",
    "    phi : ndarray\n",
    "        feature space\n",
    "    y : ndarray\n",
    "        output data of dimensions {1, n}\n",
    "\n",
    "    Returns\n",
    "    -------\n",
    "    Array of optimal weights: ndarray\n",
    "\n",
    "    \"\"\"\n",
    "    # utilise numpys built-in inverse function to complete matrix operation \n",
    "    return np.linalg.inv(phi.T@phi)@phi.T@y"
   ]
  },
  {
   "cell_type": "code",
   "execution_count": 54,
   "id": "6e53e47b",
   "metadata": {},
   "outputs": [],
   "source": [
    "def fit_poly(w, X):\n",
    "    \"\"\"\n",
    "    Function to produce fitted y data applying the optimal weights to the corresponding basis function.\n",
    "\n",
    "    Parameters\n",
    "    ----------\n",
    "    w : ndarray\n",
    "        optimal weights\n",
    "    X : ndarray\n",
    "        input data\n",
    "\n",
    "    Returns\n",
    "    -------\n",
    "    Array of fitted y values: ndarray\n",
    "\n",
    "    \"\"\"\n",
    "    # list comprehension creating an array of predicted values using optimised weights to scale polynomial elements \n",
    "    return np.array([np.sum(np.array([w[i]*(x**i) for i in range(len(w))])) for x in X])"
   ]
  },
  {
   "cell_type": "code",
   "execution_count": 55,
   "id": "22f86a3a",
   "metadata": {},
   "outputs": [],
   "source": [
    "def sin_feature_space(X, k):\n",
    "    \"\"\"\n",
    "    Function to create the sine feature space.\n",
    "    The function loops through all x applying sine basis of order k to each data point.\n",
    "    The matrix rows correspond to the ith data point.\n",
    "    The matrix columns correspond to the jth order sine basis function.\n",
    "\n",
    "    Parameters\n",
    "    ----------\n",
    "    X : ndarray\n",
    "        input data\n",
    "    k : int\n",
    "        sine basis order\n",
    "\n",
    "    Returns\n",
    "    -------\n",
    "    phi : ndarray\n",
    "        sine feature space of dimensions {len(X), k}\n",
    "\n",
    "    \"\"\"\n",
    "    # initiliase empty feature space matrix\n",
    "    phi = np.zeros([len(X), k])\n",
    "    # iteratively fill feature space matrix of dimensions\n",
    "    for i in range(len(X)):\n",
    "        for j in range(k):\n",
    "            phi[i,j]+=np.sin((j+1)*np.pi*X[i])\n",
    "    return phi"
   ]
  },
  {
   "cell_type": "code",
   "execution_count": 56,
   "id": "d9baceda",
   "metadata": {},
   "outputs": [],
   "source": [
    "def fit_sin(w, X):\n",
    "    \"\"\"\n",
    "    Function to produce fitted y data applying the optimal weights to the corresponding basis function.\n",
    "\n",
    "    Parameters\n",
    "    ----------\n",
    "    w : optimal weights\n",
    "    X : X data\n",
    "\n",
    "    Returns\n",
    "    -------\n",
    "    Vector of fitted y values\n",
    "\n",
    "    \"\"\"\n",
    "    # create an array of predicted values using optimised weights to scale sine elements \n",
    "    return np.array([np.sum(np.array([w[i]*(np.sin((i+1)*np.pi*x)) for i in range(len(w))])) for x in X])"
   ]
  },
  {
   "cell_type": "code",
   "execution_count": 57,
   "id": "fd1b6ae4",
   "metadata": {},
   "outputs": [],
   "source": [
    "def linear_regression(X, y, k, feature_space):\n",
    "    \"\"\"\n",
    "    Function to build a feature space and find the optimal weights of each basis.\n",
    "\n",
    "    Parameters\n",
    "    ----------\n",
    "    X : ndarray\n",
    "        X data\n",
    "    y : ndarray\n",
    "        y data\n",
    "    k : int\n",
    "        order of feature space basis function\n",
    "    feature_space : Callable\n",
    "        function to create feature space\n",
    "\n",
    "    Returns\n",
    "    -------\n",
    "    phi : ndarray\n",
    "        populated feature space\n",
    "    w : ndarray\n",
    "        populated weights vector\n",
    "\n",
    "    \"\"\"\n",
    "    # use functions defined above to generate feature space and weights array\n",
    "    phi = feature_space(X, k)\n",
    "    w = optimal_weights(phi, y)\n",
    "    return phi, w"
   ]
  },
  {
   "cell_type": "markdown",
   "id": "d5a4db9a",
   "metadata": {},
   "source": [
    "### 1a."
   ]
  },
  {
   "cell_type": "code",
   "execution_count": 58,
   "id": "0c6fb88a",
   "metadata": {},
   "outputs": [],
   "source": [
    "# create arrays of sample data provided\n",
    "X = np.array([1, 2, 3, 4])\n",
    "y = np.array([3, 2, 0, 5])"
   ]
  },
  {
   "cell_type": "code",
   "execution_count": 59,
   "id": "b5bb47c8",
   "metadata": {},
   "outputs": [],
   "source": [
    "# create 'continuous data' for plotting full curve\n",
    "x_axis = np.linspace(0,5,1000)"
   ]
  },
  {
   "cell_type": "code",
   "execution_count": 60,
   "id": "cee9882f",
   "metadata": {},
   "outputs": [],
   "source": [
    "# intitialise empty feature space store and weights store\n",
    "f_space_list1 = []\n",
    "weights_list1 = []"
   ]
  },
  {
   "cell_type": "code",
   "execution_count": 61,
   "id": "9c7a99ca",
   "metadata": {},
   "outputs": [],
   "source": [
    "# intitialise empty mse dictionary; key correspsonding to each basis function\n",
    "mse_dict = {'Basis 1' :None, 'Basis 2': None, 'Basis 3': None, 'Basis 4': None}"
   ]
  },
  {
   "cell_type": "code",
   "execution_count": 62,
   "id": "f32eb3c1",
   "metadata": {},
   "outputs": [
    {
     "data": {
      "image/png": "[encoded data removed]",
      "text/plain": [
       "<Figure size 800x600 with 1 Axes>"
      ]
     },
     "metadata": {},
     "output_type": "display_data"
    }
   ],
   "source": [
    "plt.figure(figsize=(8,6))\n",
    "\n",
    "# loop through range 1-4 to generate feature space and optimal weights for each basis vector of order 1-4\n",
    "# {1}, {1, x}, {1, x, x^2}, {1, x, x^2, x^3}\n",
    "for k in range(4):\n",
    "    \n",
    "    # build feature space and find weights; append to list to store\n",
    "    phi, w = linear_regression(X, y, k+1, poly_feature_space)\n",
    "    f_space_list1.append(phi)\n",
    "    weights_list1.append(w)\n",
    "    \n",
    "    # calculate fitted y values from the sample X data\n",
    "    pred_sample = fit_poly(w, X)\n",
    "    \n",
    "    # calculate mse and add to corresponding dictionary key\n",
    "    mse_dict[\"Basis \"+str(k+1)] = np.average((y-pred_sample)**2)\n",
    "    \n",
    "    # calculate predicted y values for 'all' x using optimised weights\n",
    "    pred = fit_poly(w, x_axis)\n",
    "    plt.plot(x_axis, pred, label=\"Basis order \"+str(k+1))\n",
    "    \n",
    "# show plot of four curves overlaying sample data \n",
    "plt.scatter(X, y, s=5)\n",
    "plt.legend()\n",
    "plt.title(\"Polynomial basis functions order 1-4 fit to sample data\")\n",
    "plt.xlabel(\"X\")\n",
    "plt.ylabel(\"y\")\n",
    "plt.savefig(\"q1a_plot.png\")\n",
    "plt.show()"
   ]
  },
  {
   "cell_type": "markdown",
   "id": "25b6596e",
   "metadata": {},
   "source": [
    "### 1b. Equations of fitted basis functions"
   ]
  },
  {
   "cell_type": "markdown",
   "id": "1f3fd4ec",
   "metadata": {},
   "source": [
    "$\\{1\\}: y=2.5 \\\\\n",
    "\\{1, x\\}: y=1.5+0.4x \\\\\n",
    "\\{1, x, x^2\\}: y=9-1.7x+1.5x^2 \\\\\n",
    "\\{1, x, x^2, x^3\\}: y=-5+15.17x-8.5x^2+1.33x^3$"
   ]
  },
  {
   "cell_type": "markdown",
   "id": "2fe5aa53",
   "metadata": {},
   "source": [
    "### 1c."
   ]
  },
  {
   "cell_type": "code",
   "execution_count": null,
   "id": "26db1a7a",
   "metadata": {},
   "outputs": [],
   "source": [
    "# convert mse dictionary to dataframe and show\n",
    "mse_df = pd.DataFrame.from_dict(mse_dict, orient='index', columns=['MSE'])\n",
    "print(mse_df)"
   ]
  },
  {
   "cell_type": "markdown",
   "id": "52ed5bd7",
   "metadata": {},
   "source": [
    "### 2ai."
   ]
  },
  {
   "cell_type": "code",
   "execution_count": null,
   "id": "5fd4dcf2",
   "metadata": {},
   "outputs": [],
   "source": [
    "# generate 30 random data points using given sigma\n",
    "sigma = 0.07\n",
    "X_sample, y_sample = generate_sin_data(sigma, 30)"
   ]
  },
  {
   "cell_type": "code",
   "execution_count": null,
   "id": "568c0afe",
   "metadata": {},
   "outputs": [],
   "source": [
    "# create 'continuous data' for plotting full curve\n",
    "x_axis = np.linspace(0,1,1000)\n",
    "y_true = np.sin(2*np.pi*x_axis)**2 "
   ]
  },
  {
   "cell_type": "code",
   "execution_count": null,
   "id": "4e085f1f",
   "metadata": {},
   "outputs": [],
   "source": [
    "# plot full curve with sample overlay\n",
    "plt.figure(figsize=(8,6))\n",
    "plt.scatter(X_sample, y_sample, s=5)\n",
    "plt.title(\"Sine curve superimposed over generated sample data\")\n",
    "plt.xlabel(\"X\")\n",
    "plt.ylabel(\"y\")\n",
    "plt.plot(x_axis, y_true)\n",
    "plt.ylim(-0.5,1.5)\n",
    "plt.xlim(0,1)\n",
    "plt.savefig(\"q2ai_sine-data.png\")\n",
    "plt.show()"
   ]
  },
  {
   "cell_type": "markdown",
   "id": "8e533819",
   "metadata": {},
   "source": [
    "### 2aii."
   ]
  },
  {
   "cell_type": "code",
   "execution_count": null,
   "id": "4b16396d",
   "metadata": {
    "scrolled": false
   },
   "outputs": [],
   "source": [
    "# initialise empty lists to store feature spaces and weight vectors for 2a\n",
    "f_space_list2 = []\n",
    "weight_list2 = []\n",
    "\n",
    "# perform linear regression for basis functions of order 2, 5, 10, 14, and 18\n",
    "orders = [2, 5, 10, 14, 18]\n",
    "for k in range(len(orders)):\n",
    "    \n",
    "    # build feature space of dimensions {len(X_sample), orders[k]} and find weights array {k, 1}\n",
    "    phi, w = linear_regression(X_sample, y_sample, orders[k], poly_feature_space)\n",
    "    f_space_list2.append(phi)\n",
    "    weight_list2.append(w)\n",
    "    \n",
    "    # use weights to make predictions\n",
    "    pred = fit_poly(w, x_axis)\n",
    "    \n",
    "    # plot sample data points with fitted polynomial basis overlay\n",
    "    plt.figure(figsize=(8,6))\n",
    "    plt.title(f\"Polynomial basis set k={orders[k]} fit\")\n",
    "    plt.xlabel(\"X\")\n",
    "    plt.ylabel(\"y\")\n",
    "    plt.plot(x_axis, pred)\n",
    "    plt.scatter(X_sample, y_sample, s=5)\n",
    "    plt.ylim(-0.5,1.5)\n",
    "    plt.xlim(0,1)\n",
    "    plt.savefig(f\"q2aii_basis-{orders[k]}.png\")\n",
    "    plt.show()"
   ]
  },
  {
   "cell_type": "markdown",
   "id": "5de76b56",
   "metadata": {},
   "source": [
    "### 2b."
   ]
  },
  {
   "cell_type": "code",
   "execution_count": null,
   "id": "778240a4",
   "metadata": {},
   "outputs": [],
   "source": [
    "# initialise empty lists to store feature spaces and weight vectors for 2b\n",
    "f_space_list3 = []\n",
    "weights_list3 = []"
   ]
  },
  {
   "cell_type": "code",
   "execution_count": null,
   "id": "d60b12c2",
   "metadata": {},
   "outputs": [],
   "source": [
    "# initialise empty mse list for sample data \n",
    "mse_sample = []\n",
    "\n",
    "# repeat process in 2a. for all polynomial feature spaces of order 1-18\n",
    "orders18 = np.arange(0,18)\n",
    "for k in orders18:\n",
    "\n",
    "    # build feature space of dimensions {len(X_sample), k+1} and find weights array {k+1, 1}\n",
    "    phi, w = linear_regression(X_sample, y_sample, k+1, poly_feature_space)\n",
    "    f_space_list3.append(phi)\n",
    "    weights_list3.append(w)\n",
    "    \n",
    "    # use weights to make predictions and determine mse\n",
    "    pred_sample = fit_poly(w, X_sample)\n",
    "    mse_sample.append(np.average((y_sample-pred_sample)**2))"
   ]
  },
  {
   "cell_type": "code",
   "execution_count": null,
   "id": "64663151",
   "metadata": {},
   "outputs": [],
   "source": [
    "# calculate log mse for each basis\n",
    "log_mse_sample = np.log(mse_sample)"
   ]
  },
  {
   "cell_type": "code",
   "execution_count": null,
   "id": "00956bdf",
   "metadata": {},
   "outputs": [],
   "source": [
    "# plot the log mse against dimension of basis function used\n",
    "plt.figure(figsize=(8,6))\n",
    "plt.title(\"Logarithmic MSE for \"r\"$x^k$\"\" basis set - sample\")\n",
    "plt.xlabel(\"Dimension (k)\")\n",
    "plt.ylabel(\"ln(MSE)\")\n",
    "plt.plot(orders18, log_mse_sample)\n",
    "plt.savefig(\"q2b_poly-lnmse-sample.png\")\n",
    "plt.show()"
   ]
  },
  {
   "cell_type": "markdown",
   "id": "9b0d6fcc",
   "metadata": {},
   "source": [
    "### 2c."
   ]
  },
  {
   "cell_type": "code",
   "execution_count": null,
   "id": "25d700ef",
   "metadata": {},
   "outputs": [],
   "source": [
    "# generate 1000 unseen test data points\n",
    "X_test, y_test = generate_sin_data(sigma, 1000)"
   ]
  },
  {
   "cell_type": "code",
   "execution_count": null,
   "id": "7295f276",
   "metadata": {},
   "outputs": [],
   "source": [
    "# initialise empty mse list for test data\n",
    "mse_test = []\n",
    "\n",
    "# perform linear regression on generated X test data using weights calculated in 2b. \n",
    "# repeat for all polynomial fits up to order 18 and calculate the mse using generated y test data\n",
    "for w in range(len(weights_list3)): \n",
    "    pred_test = fit_poly(weights_list3[w], X_test)\n",
    "    mse_test.append(np.average((y_test-pred_test)**2))"
   ]
  },
  {
   "cell_type": "code",
   "execution_count": null,
   "id": "c37d3a0b",
   "metadata": {},
   "outputs": [],
   "source": [
    "# calculate log mse for test data\n",
    "log_mse_test = np.log(mse_test)"
   ]
  },
  {
   "cell_type": "code",
   "execution_count": null,
   "id": "16dc121a",
   "metadata": {},
   "outputs": [],
   "source": [
    "# plot log mse from the test data against dimension of basis function used \n",
    "plt.figure(figsize=(8,6))\n",
    "plt.title(\"Logarithmic MSE for \"r\"$x^k$\"\" basis set - test\")\n",
    "plt.xlabel(\"Dimension (k)\")\n",
    "plt.ylabel(\"ln(MSE)\")\n",
    "plt.plot(orders18, log_mse_test)\n",
    "plt.savefig(\"q2c_poly-lnmse-test.png\")\n",
    "plt.show()"
   ]
  },
  {
   "cell_type": "markdown",
   "id": "fb352d37",
   "metadata": {},
   "source": [
    "### 2d."
   ]
  },
  {
   "cell_type": "code",
   "execution_count": null,
   "id": "3552e257",
   "metadata": {},
   "outputs": [],
   "source": [
    "# initialise empty matrix of dimensions {100, 18} to store mse values of 18 basis functions over 100 runs \n",
    "mse_train_all = np.zeros([100, 18])\n",
    "mse_test_all = np.zeros([100, 18])\n",
    "\n",
    "# perform 100 runs of linear regression using polynomial feature spaces with basis functions order 1-18\n",
    "runs = 100\n",
    "for r in tqdm(range(runs)):\n",
    "    \n",
    "    # generate new train/test splits each run\n",
    "    X_train, y_train = generate_sin_data(sigma, 30)\n",
    "    X_test, y_test = generate_sin_data(sigma, 1000)\n",
    "    \n",
    "    for k in range(0,18): \n",
    "        \n",
    "        # build feature space of dimensions {len(X_train), k+1} and find weights array {k+1, 1}\n",
    "        phi, w = linear_regression(X_train, y_train, k+1, poly_feature_space)\n",
    "        \n",
    "        # make predictions and record mse for train and test\n",
    "        pred_train = fit_poly(w, X_train)\n",
    "        mse_train = np.average((y_train-pred_train)**2)\n",
    "        mse_train_all[r,k] = mse_train\n",
    "\n",
    "        pred_test = fit_poly(w, X_test)\n",
    "        mse_test = np.average((y_test-pred_test)**2)\n",
    "        mse_test_all[r,k] = mse_test"
   ]
  },
  {
   "cell_type": "code",
   "execution_count": null,
   "id": "5ccbd2e4",
   "metadata": {},
   "outputs": [],
   "source": [
    "# calculate the log average mse over 100 runs \n",
    "logavg_mse_train = np.log(np.average(mse_train_all, axis=0))\n",
    "logavg_mse_test = np.log(np.average(mse_test_all, axis=0))"
   ]
  },
  {
   "cell_type": "code",
   "execution_count": null,
   "id": "14a009c1",
   "metadata": {},
   "outputs": [],
   "source": [
    "# plot the log average mse for train and test against dimension of basis function used\n",
    "plt.figure(figsize=(8,6))\n",
    "plt.title(\"100 run logarithmic average MSE for \"r\"$x^k$\"\" basis set\")\n",
    "plt.xlabel(\"Dimension (k)\")\n",
    "plt.ylabel(\"ln(MSE)\")\n",
    "plt.plot(np.arange(0,18), logavg_mse_train, label='Sample') \n",
    "plt.plot(np.arange(0,18), logavg_mse_test, label='Test') \n",
    "plt.legend()\n",
    "plt.savefig(\"q2d_poly-lnmse-100.png\")\n",
    "plt.show()"
   ]
  },
  {
   "cell_type": "markdown",
   "id": "f78275f9",
   "metadata": {},
   "source": [
    "### 3."
   ]
  },
  {
   "cell_type": "code",
   "execution_count": null,
   "id": "9c977012",
   "metadata": {},
   "outputs": [],
   "source": [
    "# intialise empty feature space and weight lists for sine basis\n",
    "sin_f_space_list = []\n",
    "sin_weights_list = []\n",
    "\n",
    "# intialise list to store sine mse results\n",
    "sin_mse_sample = []\n",
    "\n",
    "# fit linear regression using sine basis functions up to order 18\n",
    "orders18 = np.arange(0,18)\n",
    "for k in orders18:\n",
    "    \n",
    "    # build feature space of dimensions {len(X_sample), k+1} and find weights array {k+1, 1}\n",
    "    phi, w = linear_regression(X_sample, y_sample, k+1, sin_feature_space)\n",
    "    sin_f_space_list.append(phi)\n",
    "    sin_weights_list.append(w)\n",
    "    \n",
    "    # make predictions using optimal weights and record mse\n",
    "    pred_sample = fit_sin(w, X_sample)\n",
    "    sin_mse_sample.append(np.average((y_sample-pred_sample)**2))"
   ]
  },
  {
   "cell_type": "code",
   "execution_count": null,
   "id": "732ec7f6",
   "metadata": {},
   "outputs": [],
   "source": [
    "# calculate log of mse results    \n",
    "logsin_mse_sample = np.log(sin_mse_sample)"
   ]
  },
  {
   "cell_type": "code",
   "execution_count": null,
   "id": "ecf9e359",
   "metadata": {},
   "outputs": [],
   "source": [
    "# plot log average mse for sample against dimension of basis function used\n",
    "plt.figure(figsize=(8,6))\n",
    "plt.title(\"Logarithmic MSE for sin(k\"r\"$\\pi$\"\"x) basis set - sample\")\n",
    "plt.xlabel(\"Dimension (k)\")\n",
    "plt.ylabel(\"ln(MSE)\")\n",
    "plt.plot(orders18, logsin_mse_sample)\n",
    "plt.savefig(\"q3_sin-lnmse-sample.png\")\n",
    "plt.show()"
   ]
  },
  {
   "cell_type": "code",
   "execution_count": null,
   "id": "d76285af",
   "metadata": {},
   "outputs": [],
   "source": [
    "# initliase list to store test mse results for sine basis\n",
    "sin_mse_test = []\n",
    "\n",
    "# apply linear regression to test data and append mse results to list \n",
    "for k in orders18: \n",
    "    pred_test = fit_sin(sin_weights_list[k], X_test)\n",
    "    sin_mse_test.append(np.average((y_test-pred_test)**2))"
   ]
  },
  {
   "cell_type": "code",
   "execution_count": null,
   "id": "8c3b6dff",
   "metadata": {},
   "outputs": [],
   "source": [
    "# calculate log of test mse results    \n",
    "logsin_mse_test = np.log(sin_mse_test)"
   ]
  },
  {
   "cell_type": "code",
   "execution_count": null,
   "id": "dfeb70fc",
   "metadata": {},
   "outputs": [],
   "source": [
    "# plot the log average mse for test against dimension of sine basis function used\n",
    "plt.figure(figsize=(8,6))\n",
    "plt.title(\"Logarithmic MSE for sin(k\"r\"$\\pi$\"\"x) basis set - test\")\n",
    "plt.xlabel(\"Dimension (k)\")\n",
    "plt.ylabel(\"ln(MSE)\")\n",
    "plt.plot(orders18, logsin_mse_test)\n",
    "plt.savefig(\"q3_sin-lnmse-test.png\")\n",
    "plt.show()"
   ]
  },
  {
   "cell_type": "code",
   "execution_count": null,
   "id": "ff4d8f84",
   "metadata": {},
   "outputs": [],
   "source": [
    "# initliase matrices to store mse results for 18 basis functions over 100 runs \n",
    "sin_mse_sample_all = np.zeros([100,18])\n",
    "sin_mse_test_all = np.zeros([100,18])\n",
    "\n",
    "# repeat linear regression process for randomly sampled train/test data over 100 runs\n",
    "runs = 100\n",
    "for r in tqdm(range(runs)):\n",
    "    \n",
    "    # generate new train/test splits each run\n",
    "    X_train, y_train = generate_sin_data(sigma, 30)\n",
    "    X_test, y_test = generate_sin_data(sigma, 1000)\n",
    "    \n",
    "    for k in range(0,18): \n",
    "        \n",
    "        # build feature space of dimensions {len(X_sample), k+1} and find weights array {k+1, 1}\n",
    "        phi, w = linear_regression(X_sample, y_sample, k+1, sin_feature_space)\n",
    "        \n",
    "        # make predictions and record mse\n",
    "        pred_sample = fit_sin(w, X_sample)\n",
    "        sin_mse_sample_all[r,k] = np.average((y_sample-pred_sample)**2)\n",
    "\n",
    "        pred_test = fit_sin(w, X_test)\n",
    "        sin_mse_test_all[r,k] = np.average((y_test-pred_test)**2)"
   ]
  },
  {
   "cell_type": "code",
   "execution_count": null,
   "id": "605ec858",
   "metadata": {},
   "outputs": [],
   "source": [
    "# calculate the log of the 100 run average mse for each basis  \n",
    "logavgsin_mse_sample = np.log(np.average(sin_mse_sample_all, axis=0))\n",
    "logavgsin_mse_test = np.log(np.average(sin_mse_test_all, axis=0))"
   ]
  },
  {
   "cell_type": "code",
   "execution_count": null,
   "id": "5894127d",
   "metadata": {},
   "outputs": [],
   "source": [
    "# plot the log average mse for train and test against dimension of sine basis function used\n",
    "plt.figure(figsize=(8,6))\n",
    "plt.title(\"100 run logarithmic average MSE for sin(k\"r\"$\\pi$\"\"x) basis set\")\n",
    "plt.xlabel(\"Dimension (k)\")\n",
    "plt.ylabel(\"ln(MSE)\")\n",
    "plt.plot(np.arange(0,18), logavgsin_mse_sample, label='Sample') \n",
    "plt.plot(np.arange(0,18), logavgsin_mse_test, label='Test') \n",
    "plt.legend()\n",
    "plt.savefig(\"q3_sin-lnmse-100.png\")\n",
    "plt.show()"
   ]
  },
  {
   "cell_type": "markdown",
   "id": "78319df5",
   "metadata": {},
   "source": [
    "## 1.2 Filtered Boston Housing and Kernels"
   ]
  },
  {
   "cell_type": "markdown",
   "id": "5e1a38cd",
   "metadata": {},
   "source": [
    "### 4a."
   ]
  },
  {
   "cell_type": "code",
   "execution_count": null,
   "id": "80d81e4a",
   "metadata": {},
   "outputs": [],
   "source": [
    "# import module to perform train/test splits\n",
    "from sklearn.model_selection import train_test_split"
   ]
  },
  {
   "cell_type": "code",
   "execution_count": null,
   "id": "fa16f443",
   "metadata": {},
   "outputs": [],
   "source": [
    "# read in data and split input/output data\n",
    "data = pd.read_csv(\"boston_housing.csv\")\n",
    "X = data.drop(columns='MEDV').to_numpy()\n",
    "y = data['MEDV'].to_numpy()\n",
    "y = y.reshape([len(y),1])"
   ]
  },
  {
   "cell_type": "code",
   "execution_count": null,
   "id": "254557a9",
   "metadata": {},
   "outputs": [],
   "source": [
    "# initialise empty dictionary to store average mse (and standard deviation) for train and test\n",
    "results_dict = {}"
   ]
  },
  {
   "cell_type": "code",
   "execution_count": null,
   "id": "b7d6f8d0",
   "metadata": {},
   "outputs": [],
   "source": [
    "# initialise empty lists to store mse results\n",
    "mse_total_train_const = []\n",
    "mse_total_test_const = []\n",
    "\n",
    "# perform 20 runs of naive regression utilising an array of ones for the input data\n",
    "for i in range(20):\n",
    " \n",
    "    # different random split of train/test data for each run\n",
    "    X_train_const, X_test_const, y_train_const, y_test_const =  train_test_split(X, y, test_size=0.66) \n",
    "    \n",
    "    # produce array of ones matching the length of the train/test splits\n",
    "    ones_train = np.ones([len(X_train_const), 1])\n",
    "    ones_test = np.ones([len(X_test_const), 1])\n",
    "    \n",
    "    # find optimal weights for regression using the vector of ones as the feature space\n",
    "    w = optimal_weights(ones_train, y_train_const)\n",
    "    \n",
    "    # evaluate regression using (w^T@X)^T=X^T@w to avoid reshaping results array in mse calculation\n",
    "    pred_train_const = ones_train@w\n",
    "    pred_test_const = ones_test@w\n",
    "    \n",
    "    # calculate mse for train and test data and append to lists\n",
    "    mse_total_train_const.append(np.average((y_train_const-pred_train_const)**2))\n",
    "    mse_total_test_const.append(np.average((y_test_const-pred_test_const)**2))"
   ]
  },
  {
   "cell_type": "code",
   "execution_count": null,
   "id": "e8ac63a1",
   "metadata": {},
   "outputs": [],
   "source": [
    "# calculate average mse and std    \n",
    "mse_train_const_avg = np.average(mse_total_train_const).round(2)\n",
    "mse_train_const_sd = np.std(mse_total_train_const).round(2)\n",
    "mse_test_const_avg = np.average(mse_total_test_const).round(2)\n",
    "mse_test_const_sd = np.std(mse_total_test_const).round(2)"
   ]
  },
  {
   "cell_type": "code",
   "execution_count": null,
   "id": "6df77044",
   "metadata": {},
   "outputs": [],
   "source": [
    "# store results of naive regression in the results dictionary\n",
    "results_dict[\"Naive Regression\"] = {'Train': str(mse_train_const_avg)+\"+/-\"+str(mse_train_const_sd),\n",
    "                                    'Test': str(mse_test_const_avg)+\"+/-\"+str(mse_test_const_sd)} "
   ]
  },
  {
   "cell_type": "markdown",
   "id": "f75c627c",
   "metadata": {},
   "source": [
    "### 4b."
   ]
  },
  {
   "cell_type": "markdown",
   "id": "22728516",
   "metadata": {},
   "source": [
    "The constant obtained in question 4a. is the average value of the y data used in the regression. This is clear from the matrix calculation. The dot product within the inverse is between a $1\\times n$ row vector of ones and $n\\times1$ column vector of ones resulting in a singular value of value $n$ ($n$ being the length of the data). This value is then inversed and dotted with a row vector of ones producing a row vector of length $n$ with each element equal to $\\frac{1}{n}$. The dot product between this row vector and the column vector of y values performs $\\sum^n_{i=1}{\\frac{1}{n}y_i}=\\frac{1}{n}\\sum^n_{i=1}{y_i}$ - the average of the y values."
   ]
  },
  {
   "cell_type": "markdown",
   "id": "52fb261e",
   "metadata": {},
   "source": [
    "### 4c."
   ]
  },
  {
   "cell_type": "code",
   "execution_count": null,
   "id": "a9d518d8",
   "metadata": {},
   "outputs": [],
   "source": [
    "# add constant bias term to X data using array of ones\n",
    "ones_X = np.ones([len(X), 1])\n",
    "X_bias = np.append(ones_X, X, axis=1)\n",
    "\n",
    "# repeat linear regression isolating each attribute (plus the bias term)   \n",
    "for col in range(1,13):\n",
    "    \n",
    "    # initialise empty lists to store results of mse from 20 repeats\n",
    "    mse_total_train_col = []\n",
    "    mse_total_test_col = []\n",
    "    \n",
    "    # repeat linear regression for 20 runs for each attribute (plus bias term)\n",
    "    for i in range(20):\n",
    "        \n",
    "        # use a different random split each run\n",
    "        X_col_train, X_col_test, y_train_col, y_test_col = train_test_split(X_bias[:,[0,col]], y, test_size=0.66) \n",
    "        \n",
    "        # calculate optimal weights \n",
    "        w = optimal_weights(X_col_train, y_train_col)\n",
    "        \n",
    "        # evaluate regression using (w^T@X)^T=X^T@w to avoid reshaping results array in mse calculation\n",
    "        pred_train_col = X_col_train@w\n",
    "        pred_test_col = X_col_test@w\n",
    "         \n",
    "        # calculate mse for train and test data and append to lists\n",
    "        mse_total_train_col.append(np.average((y_train_col-pred_train_col)**2))\n",
    "        mse_total_test_col.append(np.average((y_test_col-pred_test_col)**2))\n",
    "    \n",
    "    # calculate average mse and std across the 20 runs       \n",
    "    mse_train_col_avg = np.average(mse_total_train_col).round(2)\n",
    "    mse_train_col_sd = np.std(mse_total_train_col).round(2)\n",
    "    mse_test_col_avg = np.average(mse_total_test_col).round(2)\n",
    "    mse_test_col_sd = np.std(mse_total_test_col).round(2)\n",
    "\n",
    "    # store results for each attribute in the results dictionary\n",
    "    results_dict[f\"Linear Regression (Attribute {col})\"] = {'Train': str(mse_train_col_avg)+\"+/-\"\n",
    "                                                            +str(mse_train_col_sd), \n",
    "                                                            'Test': str(mse_test_col_avg)+\"+/-\"\n",
    "                                                            +str(mse_test_col_sd)}"
   ]
  },
  {
   "cell_type": "markdown",
   "id": "b7fcbe23",
   "metadata": {},
   "source": [
    "### 4d."
   ]
  },
  {
   "cell_type": "code",
   "execution_count": null,
   "id": "8e5417ef",
   "metadata": {},
   "outputs": [],
   "source": [
    "# initialise empty lists to store mse results for regression on all attributes\n",
    "mse_total_train = []\n",
    "mse_total_test = []\n",
    "\n",
    "# perform linear regression using all features plus a bias term for 20 repeats\n",
    "for i in range(20):\n",
    " \n",
    "    # randomly split the data for each run and adding the bias term to the train and test input data\n",
    "    X_train, X_test, y_train, y_test =  train_test_split(X, y, test_size=0.66) \n",
    "    ones_train = np.ones([len(X_train), 1])\n",
    "    X_train = np.append(ones_train, X_train, axis=1)\n",
    "    ones_test = np.ones([len(X_test), 1])\n",
    "    X_test = np.append(ones_test, X_test, axis=1)\n",
    "    \n",
    "    # calculate optimal weights \n",
    "    w = optimal_weights(X_train, y_train)\n",
    "    \n",
    "    # evaluate regression using (w^T@X)^T=X^T@w to avoid reshaping results array in mse calculation    \n",
    "    pred_train = X_train@w\n",
    "    pred_test = X_test@w\n",
    "    \n",
    "    # calculate mse for train and test data and append to lists\n",
    "    mse_total_train.append(np.average((y_train-pred_train)**2))\n",
    "    mse_total_test.append(np.average((y_test-pred_test)**2))"
   ]
  },
  {
   "cell_type": "code",
   "execution_count": null,
   "id": "315dd8dd",
   "metadata": {},
   "outputs": [],
   "source": [
    "# calculate average mse and standard deviation for the 20 repeats   \n",
    "mse_train_avg = np.average(mse_total_train).round(2)\n",
    "mse_train_sd = np.std(mse_total_train).round(2)\n",
    "mse_test_avg = np.average(mse_total_test).round(2)\n",
    "mse_test_sd = np.std(mse_total_test).round(2) "
   ]
  },
  {
   "cell_type": "code",
   "execution_count": null,
   "id": "fc1a450e",
   "metadata": {},
   "outputs": [],
   "source": [
    "# store results of linear regression using all attrubutes in the results dictionary\n",
    "results_dict[\"Linear Regression (All Attributes)\"] = {'Train': str(mse_train_avg)+\"+/-\"+str(mse_train_sd),\n",
    "                                    'Test': str(mse_test_avg)+\"+/-\"+str(mse_test_sd)}"
   ]
  },
  {
   "cell_type": "markdown",
   "id": "72325a54",
   "metadata": {},
   "source": [
    "## 1.3 Kernelised Ridge Regression"
   ]
  },
  {
   "cell_type": "code",
   "execution_count": null,
   "id": "2428c68f",
   "metadata": {},
   "outputs": [],
   "source": [
    "import seaborn as sns"
   ]
  },
  {
   "cell_type": "code",
   "execution_count": null,
   "id": "d5680575",
   "metadata": {},
   "outputs": [],
   "source": [
    "def calculate_alpha(K, y, gamma):\n",
    "    \"\"\"\n",
    "    Function to calculate the optimal alpha vector for kernel ridge regression using the dual representation\n",
    "\n",
    "    Parameters\n",
    "    ----------\n",
    "    K : ndarray\n",
    "        kernel matrix\n",
    "    y : ndarray\n",
    "        output data\n",
    "    gamma : float\n",
    "        regularisation parameter\n",
    "\n",
    "    Returns\n",
    "    -------\n",
    "    Alpha array with length matching the number of observations: ndarray\n",
    "\n",
    "    \"\"\"\n",
    "    l = len(K)\n",
    "    # use numpys built-in identity function to generate an identity matrix of dimensions {l, l}\n",
    "    I = np.identity(l)\n",
    "    # utilise numpys built-in inverse function to complete matrix calculation\n",
    "    return np.linalg.inv(K+(gamma*l*I))@y"
   ]
  },
  {
   "cell_type": "code",
   "execution_count": null,
   "id": "6bfd7723",
   "metadata": {},
   "outputs": [],
   "source": [
    "def gaussian_kernel(i, j, sigma):\n",
    "    \"\"\"\n",
    "    Function to generate individual values of a Gaussian kernel with spread parameterised by sigma \n",
    "\n",
    "    Parameters\n",
    "    ----------\n",
    "    i : float\n",
    "        ith value of X data\n",
    "    j : float\n",
    "        jth value of X data\n",
    "    sigma : float\n",
    "        parameter chracterising the spread of the Gaussian used to calculate te kernel\n",
    "\n",
    "    Returns\n",
    "    -------\n",
    "    Kernel value representing the similairity between points i and j: float\n",
    "\n",
    "    \"\"\"\n",
    "    # calculate the distance between input data using numpys built-in function for the euclidian norm\n",
    "    norm = np.linalg.norm(i-j)\n",
    "    # using the norm above to return values for the gaussian kernel\n",
    "    return np.exp(-(norm**2)/(2*sigma**2))"
   ]
  },
  {
   "cell_type": "code",
   "execution_count": null,
   "id": "26c7bee7",
   "metadata": {},
   "outputs": [],
   "source": [
    "def kernel_matrix(X1, X2, sigma):\n",
    "    \"\"\"\n",
    "    Function to build kernel matrix using Gaussian kernel function on all pairs of X data.\n",
    "\n",
    "    Parameters\n",
    "    ----------\n",
    "    X2 : ndarray\n",
    "        dataset 1 used to build the kernel\n",
    "    X2 : int\n",
    "        dataset 2 used to build the kernel\n",
    "    sigma : float\n",
    "        sigma used in the Gaussian kernel function\n",
    "\n",
    "    Returns\n",
    "    -------\n",
    "    kernel : ndarray\n",
    "        populated Gaussian kernel of size lxl.\n",
    "\n",
    "    \"\"\"\n",
    "    # initialise an empty kernel matrix\n",
    "    l1 = len(X1)\n",
    "    l2 = len(X2)\n",
    "    kernel = np.zeros([l1, l2])\n",
    "    # iteratively assign values to the kernel matrix using the gaussian kernel function\n",
    "    for i in range(l1):\n",
    "        for j in range(l2):\n",
    "            kernel[i][j] = gaussian_kernel(X1[i], X2[j], sigma)\n",
    "    return kernel"
   ]
  },
  {
   "cell_type": "code",
   "execution_count": null,
   "id": "8fedfe92",
   "metadata": {},
   "outputs": [],
   "source": [
    "def fit_y(alpha, X, t, kernel_function, sigma):\n",
    "    \"\"\"\n",
    "    Function producing a single y prediction corresponding to test point t.\n",
    "\n",
    "    Parameters\n",
    "    ----------\n",
    "    alpha : ndarray\n",
    "        array of alpha values\n",
    "    X : ndarray\n",
    "        train dataset\n",
    "    t : ndarray\n",
    "        test dataset to make predictions from\n",
    "    kernel_function: Callable\n",
    "        function to build the kernel matrix between two sets of data\n",
    "    sigma : float\n",
    "        parameter of gaussian kernel\n",
    "\n",
    "    Returns\n",
    "    -------\n",
    "    Predicition corresponding to test point t: float \n",
    "\n",
    "    \"\"\"\n",
    "    # generate a kernel using the two sets of data, X and t\n",
    "    K_test = kernel_function(X, t, sigma)\n",
    "    # make use of vectorisation in numpy to compute predicitons; compute as below so result has dimensions {m, 1}\n",
    "    pred = K_test.T@alpha\n",
    "    return pred"
   ]
  },
  {
   "cell_type": "markdown",
   "id": "48e0228a",
   "metadata": {},
   "source": [
    "### 5a."
   ]
  },
  {
   "cell_type": "code",
   "execution_count": null,
   "id": "09d27675",
   "metadata": {},
   "outputs": [],
   "source": [
    "# produce initial train/test splits using data from question 4\n",
    "X_train, X_test, y_train, y_test =  train_test_split(X, y, test_size=0.66) "
   ]
  },
  {
   "cell_type": "code",
   "execution_count": null,
   "id": "8414e107",
   "metadata": {},
   "outputs": [],
   "source": [
    "# create gamma/sigma parameter lists as described in the question\n",
    "gamma_power = np.arange(-40, -25)\n",
    "gamma_list = [2**int(i) for i in gamma_power]\n",
    "sigma_power = np.arange(7, 13.5, 0.5)\n",
    "sigma_list = [2**i for i in sigma_power]"
   ]
  },
  {
   "cell_type": "code",
   "execution_count": null,
   "id": "366aedb9",
   "metadata": {},
   "outputs": [],
   "source": [
    "# determine fold size for 5 fold cross validation\n",
    "l = len(X_train)\n",
    "k = 5\n",
    "fold_size = l//k"
   ]
  },
  {
   "cell_type": "code",
   "execution_count": null,
   "id": "cec27bf1",
   "metadata": {},
   "outputs": [],
   "source": [
    "%%time\n",
    "# initliase best gamma/sigma and minimum error trackers\n",
    "best_gamma = 0\n",
    "best_sigma = 0\n",
    "min_error = np.infty\n",
    "\n",
    "# initliase empty mse matrix with rows representing gamma values and columns sigma values\n",
    "mse_matrix = np.zeros([len(gamma_list), len(sigma_list)])\n",
    "\n",
    "# loop through all values of gamma and sigma and fit kernel ridge regression\n",
    "# use the same train and test samples for each combination of parameters\n",
    "for g in range(len(gamma_list)):\n",
    "    for s in range(len(sigma_list)):\n",
    "        \n",
    "        mse_cv = []\n",
    "        \n",
    "        # perform 5 fold cross validation to fit kernel ridge regresison\n",
    "        for fold in range(k):\n",
    "\n",
    "            start = fold*fold_size\n",
    "            end = (fold+1)*fold_size\n",
    "            \n",
    "            # generate splits for cross validation\n",
    "            X_train_cv = np.concatenate((X_train[:start], X_train[end:]), axis=0)\n",
    "            y_train_cv = np.concatenate((y_train[:start], y_train[end:]), axis=0)\n",
    "            X_test_cv = X_train[start:end]\n",
    "            y_test_cv = y_train[start:end]\n",
    "            \n",
    "            # generate kernel matrix using X train cv split and current sigma\n",
    "            kernel_cv = kernel_matrix(X_train_cv, X_train_cv, sigma_list[s])\n",
    "            \n",
    "            # calculate alpha vector using generated kernel, y train cv split, and current gamma                       \n",
    "            alpha_cv = calculate_alpha(kernel_cv, y_train_cv, gamma_list[g])\n",
    "            \n",
    "            # fit test cv data using alpha vector\n",
    "            pred_cv = fit_y(alpha_cv, X_train_cv, X_test_cv, kernel_matrix, sigma_list[s])\n",
    "            \n",
    "            # convert predictions to column vector and calculate mse\n",
    "            mse_cv.append(np.average((y_test_cv-pred_cv)**2))\n",
    "        \n",
    "        # average mse calculation over 5 folds and assign to mse matrix\n",
    "        mean_mse_cv = np.average(mse_cv)\n",
    "        mse_matrix[g,s] = mean_mse_cv\n",
    "        \n",
    "        # if mse is lower than current lowest error, update sigma, gamma and minimum error\n",
    "        if mean_mse_cv < min_error:\n",
    "            best_gamma = gamma_list[g]\n",
    "            best_sigma = sigma_list[s]\n",
    "            min_error = mean_mse_cv"
   ]
  },
  {
   "cell_type": "markdown",
   "id": "f8eb5a7b",
   "metadata": {},
   "source": [
    "### 5b."
   ]
  },
  {
   "cell_type": "code",
   "execution_count": null,
   "id": "5a655dc5",
   "metadata": {},
   "outputs": [],
   "source": [
    "# plot mse vs sigma and gamma as a heatmap   \n",
    "plt.figure(figsize=(8,6))\n",
    "fig = sns.heatmap(mse_matrix, xticklabels=sigma_power, yticklabels=gamma_power, vmax=100,\n",
    "                  cmap=sns.cm.rocket_r, cbar_kws={'label': 'MSE'})\n",
    "plt.title(\"Heatmap of MSE values for all gamma/sigma pairs\")\n",
    "plt.xlabel(\"Sigma - \"r\"$2^x$\")\n",
    "plt.ylabel(\"Gamma - \"r\"$2^y$\")\n",
    "plt.savefig(\"q5b_mse_heatmap.png\")\n",
    "plt.show(fig)"
   ]
  },
  {
   "cell_type": "markdown",
   "id": "bc398720",
   "metadata": {},
   "source": [
    "### 5c."
   ]
  },
  {
   "cell_type": "code",
   "execution_count": null,
   "id": "6b584cb7",
   "metadata": {},
   "outputs": [],
   "source": [
    "# build optimal kernel using train data and best sigma\n",
    "best_kernel = kernel_matrix(X_train, X_train, best_sigma)"
   ]
  },
  {
   "cell_type": "code",
   "execution_count": null,
   "id": "8d126aa2",
   "metadata": {},
   "outputs": [],
   "source": [
    "# create optimal alpha vector using above optimal kernel and best gamma                     \n",
    "best_alpha = calculate_alpha(best_kernel, y_train, best_gamma)"
   ]
  },
  {
   "cell_type": "code",
   "execution_count": null,
   "id": "dc8d05ef",
   "metadata": {},
   "outputs": [],
   "source": [
    "# calculate predictions and mse of the train data using created alpha vector\n",
    "train_pred = fit_y(best_alpha, X_train, X_train, kernel_matrix, best_sigma) \n",
    "mse_train = np.average((y_train-train_pred)**2)\n",
    "print(mse_train)"
   ]
  },
  {
   "cell_type": "code",
   "execution_count": null,
   "id": "b7d8447f",
   "metadata": {},
   "outputs": [],
   "source": [
    "# repeat above for test data\n",
    "test_pred = fit_y(best_alpha, X_train, X_test, kernel_matrix, best_sigma)  \n",
    "mse_test = np.average((y_test-test_pred)**2) \n",
    "print(mse_test)"
   ]
  },
  {
   "cell_type": "markdown",
   "id": "fde78e39",
   "metadata": {},
   "source": [
    "### 5d."
   ]
  },
  {
   "cell_type": "code",
   "execution_count": null,
   "id": "02d9f488",
   "metadata": {},
   "outputs": [],
   "source": [
    "%%time\n",
    "# initliase empty mse lists to store results of 20 repeats\n",
    "mse_train_20 = []\n",
    "mse_test_20 = []\n",
    "\n",
    "# iniitialise empty lists to store best gamma/sigma pair for each run of 20\n",
    "best_simga_list = []\n",
    "best_gamma_list =[]\n",
    "\n",
    "# repeat process in b for 20 iterations\n",
    "for i in tqdm(range(20)):\n",
    "    \n",
    "    # different random split of data each run\n",
    "    X_train, X_test, y_train, y_test =  train_test_split(X, y, test_size=0.66) \n",
    "    \n",
    "    best_gamma = 0\n",
    "    best_sigma = 0\n",
    "\n",
    "    min_error = np.infty\n",
    "    \n",
    "    # loop through all values of gamma and sigma and fit kernel ridge regression\n",
    "    # use the same train and test samples for each combination of parameters\n",
    "    for g in range(len(gamma_list)):\n",
    "        for s in range(len(sigma_list)):\n",
    "\n",
    "            mse_cv = []\n",
    "\n",
    "            # perform 5 fold cross validation to fit kernel ridge regresison\n",
    "            for fold in range(k):\n",
    "\n",
    "                start = fold*fold_size\n",
    "                end = (fold+1)*fold_size\n",
    "\n",
    "                # generate splits for cross validation\n",
    "                X_train_cv = np.concatenate((X_train[:start], X_train[end:]), axis=0)\n",
    "                y_train_cv = np.concatenate((y_train[:start], y_train[end:]), axis=0)\n",
    "                X_test_cv = X_train[start:end]\n",
    "                y_test_cv = y_train[start:end]\n",
    "\n",
    "                # generate kernel matrix using X train cv split and current sigma\n",
    "                kernel_cv = kernel_matrix(X_train_cv, X_train_cv, sigma_list[s])\n",
    "\n",
    "                # calculate alpha vector using generated kernel, y train cv split, and current gamma                       \n",
    "                alpha_cv = calculate_alpha(kernel_cv, y_train_cv, gamma_list[g])\n",
    "\n",
    "                # fit test cv data using alpha vector\n",
    "                y_pred_cv = fit_y(alpha_cv, X_train_cv, X_test_cv, kernel_matrix, sigma_list[s])\n",
    "\n",
    "                # convert predictions to column vector and calculate mse\n",
    "                mse_cv.append(np.average((y_test_cv-y_pred_cv)**2))\n",
    "\n",
    "            # average mse calculation over 5 folds and assign to mse matrix\n",
    "            mean_mse_cv = np.average(mse_cv)\n",
    "\n",
    "            # if mse is lower than current lowest error, update sigma, gamma and minimum error\n",
    "            if mean_mse_cv < min_error:\n",
    "                best_gamma = gamma_list[g]\n",
    "                best_sigma = sigma_list[s]\n",
    "                min_error = mean_mse_cv\n",
    "    \n",
    "    # append best gamma/sigma of run to lists\n",
    "    best_simga_list.append(best_sigma)\n",
    "    best_gamma_list.append(best_gamma)            \n",
    "    \n",
    "    # generate best kernel and alpha vector of run\n",
    "    run_best_kernel = kernel_matrix(X_train, X_train, best_sigma)\n",
    "    run_best_alpha = calculate_alpha(run_best_kernel, y_train, best_gamma)\n",
    "\n",
    "    # caluclate predictions using optimal alpha found in the run and calculate mse\n",
    "    train_pred = fit_y(run_best_alpha, X_train, X_train, kernel_matrix, best_sigma) \n",
    "    mse_train_20.append(np.average((y_train-train_pred)**2))\n",
    "\n",
    "    # repeat above for test data\n",
    "    test_pred = fit_y(run_best_alpha, X_train, X_test, kernel_matrix, best_sigma)  \n",
    "    mse_test_20.append(np.average((y_test-test_pred)**2))"
   ]
  },
  {
   "cell_type": "code",
   "execution_count": null,
   "id": "f06ea199",
   "metadata": {},
   "outputs": [],
   "source": [
    "# calculate the average mse and corresponding standard deviation               \n",
    "mse_train_avg = np.average(mse_train_20).round(2)\n",
    "mse_train_sd = np.std(mse_train_20).round(2)\n",
    "mse_test_avg = np.average(mse_test_20).round(2)\n",
    "mse_test_sd = np.std(mse_test_20).round(2)"
   ]
  },
  {
   "cell_type": "code",
   "execution_count": null,
   "id": "440ee4a5",
   "metadata": {},
   "outputs": [],
   "source": [
    "mse_test_avg"
   ]
  },
  {
   "cell_type": "code",
   "execution_count": null,
   "id": "a38f7e42",
   "metadata": {},
   "outputs": [],
   "source": [
    "# add results of kernel ridge regression to results dict  \n",
    "results_dict[\"Kernel Ridge Regression\"] = {'Train': str(mse_train_avg)+\"+/-\"+str(mse_train_sd),\n",
    "                                    'Test': str(mse_test_avg)+\"+/-\"+str(mse_test_sd)} "
   ]
  },
  {
   "cell_type": "code",
   "execution_count": null,
   "id": "de54588b",
   "metadata": {},
   "outputs": [],
   "source": [
    "results_df = pd.DataFrame.from_dict(results_dict).T"
   ]
  },
  {
   "cell_type": "code",
   "execution_count": null,
   "id": "cec03bd0",
   "metadata": {},
   "outputs": [],
   "source": [
    "results_df"
   ]
  },
  {
   "cell_type": "code",
   "execution_count": null,
   "id": "a7b9d27e",
   "metadata": {},
   "outputs": [],
   "source": []
  }
 ],
 "metadata": {
  "kernelspec": {
   "display_name": "Python 3 (ipykernel)",
   "language": "python",
   "name": "python3"
  },
  "language_info": {
   "codemirror_mode": {
    "name": "ipython",
    "version": 3
   },
   "file_extension": ".py",
   "mimetype": "text/x-python",
   "name": "python",
   "nbconvert_exporter": "python",
   "pygments_lexer": "ipython3",
   "version": "3.11.4"
  }
 },
 "nbformat": 4,
 "nbformat_minor": 5
}
