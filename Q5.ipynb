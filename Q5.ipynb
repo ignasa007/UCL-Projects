{
 "cells": [
  {
   "cell_type": "markdown",
   "metadata": {},
   "source": [
    "# Decrypting Messages with MCMC"
   ]
  },
  {
   "cell_type": "code",
   "execution_count": 3,
   "metadata": {},
   "outputs": [],
   "source": [
    "import warnings\n",
    "from collections import Counter\n",
    "import numpy as np\n",
    "import networkx as nx\n",
    "from IPython.display import display, Markdown\n",
    "\n",
    "warnings.filterwarnings('ignore')"
   ]
  },
  {
   "cell_type": "code",
   "execution_count": 4,
   "metadata": {},
   "outputs": [],
   "source": [
    "with open('symbols.txt', 'r', encoding='utf-16') as f:\n",
    "    symbols = f.read().split('\\n')\n",
    "\n",
    "with open('war-and-peace.txt', 'r') as f:\n",
    "    war_and_peace = f.read()\n",
    "    war_and_peace = ' '.join(war_and_peace.lower().split())"
   ]
  },
  {
   "cell_type": "code",
   "execution_count": 5,
   "metadata": {},
   "outputs": [],
   "source": [
    "unrecognized_symbols = set(war_and_peace).difference(symbols)\n",
    "for uc in unrecognized_symbols:\n",
    "    war_and_peace = war_and_peace.replace(uc, ' ')\n",
    "\n",
    "war_and_peace = ' '.join(war_and_peace.split())"
   ]
  },
  {
   "cell_type": "markdown",
   "metadata": {},
   "source": [
    "## 5 (a)"
   ]
  },
  {
   "cell_type": "code",
   "execution_count": 6,
   "metadata": {},
   "outputs": [],
   "source": [
    "class MarkovChain:\n",
    "\n",
    "    def __init__(self, symbols, text):\n",
    "\n",
    "        self.symbols = symbols\n",
    "        self.symbols_to_idx = {s: i for i, s in enumerate(symbols)}\n",
    "        \n",
    "        transition_counts = np.zeros((len(symbols), len(symbols))) + 1   # Laplace smoothing: setting uniform prior, avoids transition probabilities 0\n",
    "        for beta, alpha in zip(text[:-1], text[1:]):\n",
    "            transition_counts[self.symbols_to_idx[beta], self.symbols_to_idx[alpha]] += 1\n",
    "        self.tm = transition_counts / transition_counts.sum(axis=1, keepdims=True)\n",
    "\n",
    "        eig_vals, eig_vecs = np.linalg.eig(self.tm.T)\n",
    "        p_inv = eig_vecs[:, np.where(np.isclose(eig_vals, 1))[0][0]]\n",
    "        self.p_inv = (p_inv / np.sum(p_inv)).astype(float)\n",
    "\n",
    "    def transition_prob(self, beta, alpha):\n",
    "\n",
    "        return self.tm[self.symbols_to_idx[beta], self.symbols_to_idx[alpha]]\n",
    "\n",
    "    def limiting_prob(self, gamma):\n",
    "\n",
    "        return self.p_inv[self.symbols_to_idx[gamma]]"
   ]
  },
  {
   "cell_type": "code",
   "execution_count": 7,
   "metadata": {},
   "outputs": [
    {
     "data": {
      "text/markdown": [
       "$p\\left(s_i=b|s_{i-1}=a\\right) = \\psi\\left(b, a\\right) = 0.017064$"
      ],
      "text/plain": [
       "<IPython.core.display.Markdown object>"
      ]
     },
     "metadata": {},
     "output_type": "display_data"
    }
   ],
   "source": [
    "mc = MarkovChain(symbols, war_and_peace)\n",
    "\n",
    "display(Markdown(\n",
    "    fr\"$p\\left(s_i=b|s_{{i-1}}=a\\right) = \\psi\\left(b, a\\right) = {mc.transition_prob('a', 'b'):.6f}$\"\n",
    "))"
   ]
  },
  {
   "cell_type": "code",
   "execution_count": 8,
   "metadata": {},
   "outputs": [
    {
     "data": {
      "text/markdown": [
       "| $\\gamma$ | = |   | - | , | ; | : | ! | ? | / | . | ' | \" | ( | ) | [ | ] | * | 0 | 1 | 2 | 3 | 4 | 5 | 6 | 7 | 8 | 9 | a | b | c | d | e | f | g | h | i | j | k | l | m | n | o | p | q | r | s | t | u | v | w | x | y | z |\n",
       "| :---: | :---: | :---: | :---: | :---: | :---: | :---: | :---: | :---: | :---: | :---: | :---: | :---: | :---: | :---: | :---: | :---: | :---: | :---: | :---: | :---: | :---: | :---: | :---: | :---: | :---: | :---: | :---: | :---: | :---: | :---: | :---: | :---: | :---: | :---: | :---: | :---: | :---: | :---: | :---: | :---: | :---: | :---: | :---: | :---: | :---: | :---: | :---: | :---: | :---: | :---: | :---: | :---: | :---: |\n",
       "| $\\psi\\left(\\gamma\\right)$ | 0.000017 | 0.183298 | 0.000590 | 0.012503 | 0.000375 | 0.000332 | 0.001246 | 0.000998 | 0.000019 | 0.009682 | 0.000019 | 0.000023 | 0.000225 | 0.000225 | 0.000017 | 0.000017 | 0.000107 | 0.000070 | 0.000139 | 0.000062 | 0.000035 | 0.000024 | 0.000033 | 0.000033 | 0.000028 | 0.000077 | 0.000027 | 0.063472 | 0.010865 | 0.019308 | 0.037046 | 0.098187 | 0.017200 | 0.016084 | 0.052425 | 0.053931 | 0.000823 | 0.006414 | 0.030231 | 0.019312 | 0.057673 | 0.059525 | 0.014266 | 0.000746 | 0.046485 | 0.051008 | 0.070901 | 0.020176 | 0.008494 | 0.018558 | 0.001389 | 0.014494 | 0.000764 |"
      ],
      "text/plain": [
       "<IPython.core.display.Markdown object>"
      ]
     },
     "metadata": {},
     "output_type": "display_data"
    }
   ],
   "source": [
    "assert np.allclose(mc.tm.T @ mc.p_inv, mc.p_inv))\n",
    "assert np.isclose(np.sum(mc.p_inv), 1)\n",
    "\n",
    "display(Markdown(\n",
    "    '\\n'.join([\n",
    "        r'| $\\gamma$ |' + ''.join([f\" {symbol} |\" for symbol in symbols]),\n",
    "        '| :---: |' + ' :---: |'*len(symbols),\n",
    "        r'| $\\psi\\left(\\gamma\\right)$ |' + ''.join([f' {p:.6f} |' for p in mc.p_inv]),\n",
    "    ])\n",
    "))"
   ]
  },
  {
   "cell_type": "markdown",
   "metadata": {},
   "source": [
    "## 5 (d)"
   ]
  },
  {
   "cell_type": "code",
   "execution_count": 9,
   "metadata": {},
   "outputs": [],
   "source": [
    "with open('message.txt', 'r', encoding='utf-16') as f:\n",
    "    message = f.read()"
   ]
  },
  {
   "cell_type": "code",
   "execution_count": 10,
   "metadata": {},
   "outputs": [],
   "source": [
    "def log_likelihood(sigma):\n",
    "\n",
    "    sigma_inv = {e: d for d, e in sigma.items()}\n",
    "    decrypted_text = ''.join([sigma_inv[e] for e in message])\n",
    "\n",
    "    l = np.log(mc.limiting_prob(decrypted_text[0]))\n",
    "    for beta, alpha in zip(decrypted_text[:-1], decrypted_text[1:]):\n",
    "        transition_prob = mc.transition_prob(beta, alpha)\n",
    "        l += np.log(transition_prob+1e-20)\n",
    "        \n",
    "    return l"
   ]
  },
  {
   "cell_type": "code",
   "execution_count": 11,
   "metadata": {},
   "outputs": [],
   "source": [
    "war_and_peace_cntr = dict(Counter(war_and_peace))\n",
    "message_cntr = Counter(message)\n",
    "message_cntr = {k: message_cntr.get(k, 0) for k in war_and_peace_cntr}"
   ]
  },
  {
   "cell_type": "code",
   "execution_count": 19,
   "metadata": {},
   "outputs": [
    {
     "data": {
      "text/markdown": [
       "##### *Number of Updates / Number of Iterations: Decrypted Text*"
      ],
      "text/plain": [
       "<IPython.core.display.Markdown object>"
      ]
     },
     "metadata": {},
     "output_type": "display_data"
    },
    {
     "name": "stdout",
     "output_type": "stream",
     "text": [
      "    98/500: or bw wuaryed irn bude masredipse weidt bw gilfed yime be tu\n",
      "  195/1000: or bf fuirden ary bune milrenaple feans bf gatwen dame be su\n",
      "  276/1500: on my yuinder anf mure kilnerable years my gatwer dake me su\n",
      "  355/2000: on my yuinfer and mure kilnerable years my gatwer fake me su\n",
      "  432/2500: on my yuinger and mure kilnerable years my father gake me su\n",
      "  519/3000: on my yuinger and mure kilnerable years my father gake me su\n",
      "  603/3500: on my yuinger and mure vilnerable years my father gave me su\n",
      "  686/4000: on my yuinger and mure vilnerable years my father gave me su\n",
      "  759/4500: on my yuinger and mure vilnerable years my father gave me su\n",
      "  829/5000: on my yuinger and mure vilnerable years my father gave me su\n",
      "  913/5500: on my yuinger and mure vilnerable years my father gave me su\n",
      "  995/6000: on my yuinger and mure vilnerable years my father gave me su\n",
      " 1067/6500: on my yuinger and mure vilnerable years my father gave me su\n",
      " 1157/7000: on my yuinger and mure vilnerable years my father gave me su\n",
      " 1236/7500: on my yuinger and mure vilnerable years my father gave me su\n",
      " 1319/8000: on my yuinger and mure vilnerable years my father gave me su\n",
      " 1402/8500: on my yuinger and mure vilnerable years my father gave me su\n",
      " 1476/9000: on my yuinger and mure vilnerable years my father gave me su\n",
      " 1566/9500: on my yuinger and mure vilnerable years my father gave me su\n",
      "1650/10000: on my yuinger and mure vilnerable years my father gave me su\n",
      "1731/10500: on my yuinger and mure vilnerable years my father gave me su\n",
      "1824/11000: on my yuinger and mure vilnerable years my father gave me su\n",
      "1915/11500: on my yuinger and mure vilnerable years my father gave me su\n",
      "2004/12000: on my yuinger and mure vilnerable years my father gave me su\n",
      "2084/12500: on my yuinger and mure vilnerable years my father gave me su\n",
      "2159/13000: on my yuinger and mure vilnerable years my father gave me su\n",
      "2234/13500: on my yuinger and mure vilnerable years my father gave me su\n",
      "2308/14000: on my yuinger and mure vilnerable years my father gave me su\n",
      "2383/14500: on my yuinger and mure vilnerable years my father gave me su\n",
      "2460/15000: on my yuinger and mure vilnerable years my father gave me su\n",
      "2542/15500: on my yuinger and mure vilnerable years my father gave me su\n",
      "2635/16000: on my yuinger and mure vilnerable years my father gave me su\n",
      "2718/16500: on my yuinger and mure vilnerable years my father gave me su\n",
      "2791/17000: on my yuinger and mure vilnerable years my father gave me su\n",
      "2882/17500: on my yuinger and mure vilnerable years my father gave me su\n",
      "2968/18000: on my yuinger and mure vilnerable years my father gave me su\n",
      "3050/18500: on my yuinger and mure vilnerable years my father gave me su\n",
      "3139/19000: on my yuinger and mure vilnerable years my father gave me su\n",
      "3212/19500: on my yuinger and mure vilnerable years my father gave me su\n",
      "3285/20000: on my yuinger and mure vilnerable years my father gave me su\n",
      "3370/20500: on my yuinger and mure vilnerable years my father gave me su\n",
      "3441/21000: on my yuinger and mure vilnerable years my father gave me su\n",
      "3516/21500: on my yuinger and mure vilnerable years my father gave me su\n",
      "3594/22000: on my yuinger and mure vilnerable years my father gave me su\n",
      "3671/22500: on my yuinger and mure vilnerable years my father gave me su\n",
      "3776/23000: on my yuinger and mure vilnerable years my father gave me su\n",
      "3845/23500: on my yuinger and mure vilnerable years my father gave me su\n",
      "3924/24000: on my yuinger and mure vilnerable years my father gave me su\n",
      "4007/24500: on my yuinger and mure vilnerable years my father gave me su\n",
      "4081/25000: on my yuinger and mure vilnerable years my father gave me su\n",
      "4173/25500: on my yuinger and mure vilnerable years my father gave me su\n",
      "4266/26000: on my yuinger and mure vilnerable years my father gave me su\n",
      "4338/26500: on my yuinger and mure vilnerable years my father gave me su\n",
      "4417/27000: on my yuinger and mure vilnerable years my father gave me su\n",
      "4493/27500: on my yuinger and mure vilnerable years my father gave me su\n",
      "4582/28000: on my yuinger and mure vilnerable years my father gave me su\n",
      "4663/28500: on my yuinger and mure vilnerable years my father gave me su\n",
      "4742/29000: on my yuinger and mure vilnerable years my father gave me su\n",
      "4833/29500: on my yuinger and mure vilnerable years my father gave me su\n",
      "4910/30000: on my yuinger and mure vilnerable years my father gave me su\n",
      "4984/30500: on my yuinger and mure vilnerable years my father gave me su\n",
      "5091/31000: on my yuinger and mure vilnerable years my father gave me su\n",
      "5177/31500: on my yuinger and mure vilnerable years my father gave me su\n",
      "5253/32000: on my yuinger and mure vilnerable years my father gave me su\n",
      "5336/32500: on my yuinger and mure vilnerable years my father gave me su\n",
      "5416/33000: on my yuinger and mure vilnerable years my father gave me su\n",
      "5499/33500: on my yuinger and mure vilnerable years my father gave me su\n",
      "5579/34000: on my yuinger and mure vilnerable years my father gave me su\n",
      "5660/34500: on my yuinger and mure vilnerable years my father gave me su\n",
      "5729/35000: on my yuinger and mure vilnerable years my father gave me su\n",
      "5814/35500: on my yuinger and mure vilnerable years my father gave me su\n",
      "5897/36000: on my yuinger and mure vilnerable years my father gave me su\n",
      "5974/36500: on my yuinger and mure vilnerable years my father gave me su\n",
      "6048/37000: on my yuinger and mure vilnerable years my father gave me su\n",
      "6131/37500: on my yuinger and mure vilnerable years my father gave me su\n",
      "6211/38000: on my yuinger and mure vilnerable years my father gave me su\n",
      "6291/38500: on my yuinger and mure vilnerable years my father gave me su\n",
      "6373/39000: on my yuinger and mure vilnerable years my father gave me su\n",
      "6464/39500: on my yuinger and mure vilnerable years my father gave me su\n",
      "6570/40000: on my yuinger and mure vilnerable years my father gave me su\n",
      "6654/40500: on my yuinger and mure vilnerable years my father gave me su\n",
      "6738/41000: on my yuinger and mure vilnerable years my father gave me su\n",
      "6816/41500: on my yuinger and mure vilnerable years my father gave me su\n",
      "6905/42000: on my yuinger and mure vilnerable years my father gave me su\n",
      "6974/42500: on my yuinger and mure vilnerable years my father gave me su\n",
      "7056/43000: on my yuinger and mure vilnerable years my father gave me su\n",
      "7144/43500: on my yuinger and mure vilnerable years my father gave me su\n",
      "7223/44000: on my yuinger and mure vilnerable years my father gave me su\n",
      "7302/44500: on my yuinger and mure vilnerable years my father gave me su\n",
      "7378/45000: on my yuinger and mure vilnerable years my father gave me su\n",
      "7448/45500: on my yuinger and mure vilnerable years my father gave me su\n",
      "7519/46000: on my yuinger and mure vilnerable years my father gave me su\n",
      "7606/46500: on my yuinger and mure vilnerable years my father gave me su\n",
      "7677/47000: on my yuinger and mure vilnerable years my father gave me su\n",
      "7766/47500: on my yuinger and mure vilnerable years my father gave me su\n",
      "7843/48000: on my yuinger and mure vilnerable years my father gave me su\n",
      "7923/48500: on my yuinger and mure vilnerable years my father gave me su\n",
      "8006/49000: on my yuinger and mure vilnerable years my father gave me su\n",
      "8090/49500: on my yuinger and mure vilnerable years my father gave me su\n",
      "8174/50000: on my yuinger and mure vilnerable years my father gave me su\n"
     ]
    }
   ],
   "source": [
    "permutation = {d: e for d, e in zip(sorted(war_and_peace_cntr.keys(), key=lambda x: war_and_peace_cntr[x]), sorted(message_cntr.keys(), key=lambda x: message_cntr[x]))}\n",
    "updates = 0\n",
    "\n",
    "display(Markdown(\n",
    "    r'##### *Number of Updates / Number of Iterations: Decrypted Text*'\n",
    "))\n",
    "\n",
    "for i in range(1, 50001):\n",
    "\n",
    "    s, s_ = np.random.choice(symbols, 2, replace=False)\n",
    "    proposal = permutation.copy()\n",
    "    proposal[s], proposal[s_] = proposal[s_], proposal[s]\n",
    "    log_likelihood_diff = log_likelihood(proposal) - log_likelihood(permutation)\n",
    "\n",
    "    if np.random.uniform() <= np.exp(log_likelihood_diff):\n",
    "        permutation = proposal.copy()\n",
    "        updates += 1\n",
    "\n",
    "    if i%500 == 0:\n",
    "        permutation_inv = {e: d for d, e in permutation.items()}\n",
    "        print(f\"{(str(updates)+'/'+str(i)).rjust(10, ' ')}: {''.join([permutation_inv[e] for e in message[:60]])}\")"
   ]
  },
  {
   "cell_type": "markdown",
   "metadata": {},
   "source": [
    "## 5 (e)"
   ]
  },
  {
   "cell_type": "code",
   "execution_count": null,
   "metadata": {},
   "outputs": [
    {
     "name": "stdout",
     "output_type": "stream",
     "text": [
      "Number of strongly connected components = 1\n"
     ]
    }
   ],
   "source": [
    "edges = list()\n",
    "for beta in symbols:\n",
    "    for alpha in symbols:\n",
    "        if mc.transition_prob(beta, alpha) > 0:\n",
    "            edges.append(tuple((beta, alpha)))\n",
    "\n",
    "G = nx.DiGraph()\n",
    "G.add_edges_from(edges)\n",
    "print(f'Number of strongly connected components = {len(list(nx.strongly_connected_components(G)))}')"
   ]
  },
  {
   "cell_type": "code",
   "execution_count": 28,
   "metadata": {},
   "outputs": [
    {
     "name": "stdout",
     "output_type": "stream",
     "text": [
      "Characters that can transition to themselves are -, ., ', *, 0, 1, 2, 6, 8, a, b, c, d, e, f, g, h, i, l, m, n, o, p, r, s, t, v, w, x, z\n"
     ]
    }
   ],
   "source": [
    "self_transition_probs = np.diag(mc.tm)\n",
    "chars = [symbols[i] for i in np.where(self_transition_probs > 0)[0]]\n",
    "\n",
    "print('Characters that can transition to themselves are ' + ', '.join(chars))"
   ]
  },
  {
   "cell_type": "code",
   "execution_count": null,
   "metadata": {},
   "outputs": [],
   "source": []
  }
 ],
 "metadata": {
  "kernelspec": {
   "display_name": "base",
   "language": "python",
   "name": "python3"
  },
  "language_info": {
   "codemirror_mode": {
    "name": "ipython",
    "version": 3
   },
   "file_extension": ".py",
   "mimetype": "text/x-python",
   "name": "python",
   "nbconvert_exporter": "python",
   "pygments_lexer": "ipython3",
   "version": "3.8.8"
  }
 },
 "nbformat": 4,
 "nbformat_minor": 2
}
