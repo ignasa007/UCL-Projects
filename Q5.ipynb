{
 "cells": [
  {
   "cell_type": "markdown",
   "metadata": {},
   "source": [
    "# Decrypting Messages with MCMC"
   ]
  },
  {
   "cell_type": "code",
   "execution_count": 1,
   "metadata": {},
   "outputs": [],
   "source": [
    "import warnings\n",
    "from collections import Counter\n",
    "import numpy as np\n",
    "import pandas as pd\n",
    "import networkx as nx\n",
    "from IPython.display import display, Markdown\n",
    "\n",
    "warnings.filterwarnings('ignore')"
   ]
  },
  {
   "cell_type": "code",
   "execution_count": 2,
   "metadata": {},
   "outputs": [],
   "source": [
    "with open('symbols.txt', 'r', encoding='utf-16') as f:\n",
    "    symbols = f.read().split('\\n')\n",
    "\n",
    "with open('war-and-peace.txt', 'r') as f:\n",
    "    war_and_peace = f.read()\n",
    "    war_and_peace = ' '.join(war_and_peace.lower().split())"
   ]
  },
  {
   "cell_type": "code",
   "execution_count": 3,
   "metadata": {},
   "outputs": [],
   "source": [
    "unrecognized_symbols = set(war_and_peace).difference(symbols)\n",
    "for uc in unrecognized_symbols:\n",
    "    war_and_peace = war_and_peace.replace(uc, ' ')\n",
    "\n",
    "war_and_peace = ' '.join(war_and_peace.split())"
   ]
  },
  {
   "cell_type": "markdown",
   "metadata": {},
   "source": [
    "## 5 (a)"
   ]
  },
  {
   "cell_type": "code",
   "execution_count": 4,
   "metadata": {},
   "outputs": [],
   "source": [
    "class MarkovChain:\n",
    "\n",
    "    def __init__(self, symbols, text):\n",
    "\n",
    "        self.symbols = symbols\n",
    "        self.symbols_to_idx = {s: i for i, s in enumerate(symbols)}\n",
    "        \n",
    "        transition_counts = np.zeros((len(symbols), len(symbols))) + 0   # Laplace smoothing: setting uniform prior, avoids transition probabilities 0\n",
    "        for beta, alpha in zip(text[:-1], text[1:]):\n",
    "            transition_counts[self.symbols_to_idx[beta], self.symbols_to_idx[alpha]] += 1\n",
    "        self.tm = transition_counts / transition_counts.sum(axis=1, keepdims=True)\n",
    "\n",
    "        eig_vals, eig_vecs = np.linalg.eig(self.tm.T)\n",
    "        p_inv = eig_vecs[:, np.where(np.isclose(eig_vals, 1))[0][0]]\n",
    "        self.p_inv = (p_inv / np.sum(p_inv)).astype(float)\n",
    "\n",
    "    def transition_prob(self, beta, alpha):\n",
    "\n",
    "        return self.tm[self.symbols_to_idx[beta], self.symbols_to_idx[alpha]]\n",
    "\n",
    "    def limiting_prob(self, gamma):\n",
    "\n",
    "        return self.p_inv[self.symbols_to_idx[gamma]]"
   ]
  },
  {
   "cell_type": "code",
   "execution_count": 5,
   "metadata": {},
   "outputs": [
    {
     "data": {
      "text/markdown": [
       "$p\\left(s_i=b|s_{i-1}=a\\right) = \\psi\\left(b, a\\right) = 0.016810$"
      ],
      "text/plain": [
       "<IPython.core.display.Markdown object>"
      ]
     },
     "metadata": {},
     "output_type": "display_data"
    }
   ],
   "source": [
    "mc = MarkovChain(symbols, war_and_peace)\n",
    "\n",
    "display(Markdown(\n",
    "    fr\"$p\\left(s_i=b|s_{{i-1}}=a\\right) = \\psi\\left(b, a\\right) = {mc.transition_prob('a', 'b'):.6f}$\"\n",
    "))"
   ]
  },
  {
   "cell_type": "code",
   "execution_count": 6,
   "metadata": {},
   "outputs": [
    {
     "data": {
      "text/markdown": [
       "| $\\gamma$ | = |   | - | , | ; | : | ! | ? | / | . | ' | \" | ( | ) | [ | ] | * | 0 | 1 | 2 | 3 | 4 | 5 | 6 | 7 | 8 | 9 | a | b | c | d | e | f | g | h | i | j | k | l | m | n | o | p | q | r | s | t | u | v | w | x | y | z |\n",
       "| :---: | :---: | :---: | :---: | :---: | :---: | :---: | :---: | :---: | :---: | :---: | :---: | :---: | :---: | :---: | :---: | :---: | :---: | :---: | :---: | :---: | :---: | :---: | :---: | :---: | :---: | :---: | :---: | :---: | :---: | :---: | :---: | :---: | :---: | :---: | :---: | :---: | :---: | :---: | :---: | :---: | :---: | :---: | :---: | :---: | :---: | :---: | :---: | :---: | :---: | :---: | :---: | :---: | :---: |\n",
       "| $\\psi\\left(\\gamma\\right)$ | 0.000001 | 0.176893 | 0.001234 | 0.012458 | 0.000357 | 0.000314 | 0.001226 | 0.000979 | 0.000003 | 0.009643 | 0.002351 | 0.002805 | 0.000208 | 0.000208 | 0.000001 | 0.000001 | 0.000090 | 0.000053 | 0.000122 | 0.000045 | 0.000018 | 0.000007 | 0.000016 | 0.000017 | 0.000012 | 0.000060 | 0.000010 | 0.064281 | 0.010823 | 0.019250 | 0.036944 | 0.098464 | 0.017144 | 0.016031 | 0.052288 | 0.054422 | 0.000804 | 0.006383 | 0.030145 | 0.019251 | 0.057524 | 0.060248 | 0.014217 | 0.000728 | 0.046361 | 0.050874 | 0.070722 | 0.020437 | 0.008458 | 0.018499 | 0.001369 | 0.014454 | 0.000745 |"
      ],
      "text/plain": [
       "<IPython.core.display.Markdown object>"
      ]
     },
     "metadata": {},
     "output_type": "display_data"
    }
   ],
   "source": [
    "assert np.all(np.isclose(mc.tm.T @ mc.p_inv, mc.p_inv))\n",
    "assert np.isclose(np.sum(mc.p_inv), 1)\n",
    "\n",
    "display(Markdown(\n",
    "    '\\n'.join([\n",
    "        r'| $\\gamma$ |' + ''.join([f\" {symbol} |\" for symbol in symbols]),\n",
    "        '| :---: |' + ' :---: |'*len(symbols),\n",
    "        r'| $\\psi\\left(\\gamma\\right)$ |' + ''.join([f' {p:.6f} |' for p in mc.p_inv]),\n",
    "    ])\n",
    "))"
   ]
  },
  {
   "cell_type": "markdown",
   "metadata": {},
   "source": [
    "## 5 (d)"
   ]
  },
  {
   "cell_type": "code",
   "execution_count": 7,
   "metadata": {},
   "outputs": [],
   "source": [
    "with open('message.txt', 'r', encoding='utf-16') as f:\n",
    "    message = f.read()"
   ]
  },
  {
   "cell_type": "code",
   "execution_count": 8,
   "metadata": {},
   "outputs": [],
   "source": [
    "def log_likelihood(sigma):\n",
    "\n",
    "    sigma_inv = {e: d for d, e in sigma.items()}\n",
    "    decrypted_text = ''.join([sigma_inv[e] for e in message])\n",
    "\n",
    "    l = np.log(mc.limiting_prob(decrypted_text[0]))\n",
    "    for beta, alpha in zip(decrypted_text[:-1], decrypted_text[1:]):\n",
    "        transition_prob = mc.transition_prob(beta, alpha)\n",
    "        l += np.log(transition_prob+1e-20)\n",
    "        \n",
    "    return l"
   ]
  },
  {
   "cell_type": "code",
   "execution_count": 9,
   "metadata": {},
   "outputs": [],
   "source": [
    "war_and_peace_cntr = dict(Counter(war_and_peace))\n",
    "message_cntr = Counter(message)\n",
    "message_cntr = {k: message_cntr.get(k, 0) for k in war_and_peace_cntr}"
   ]
  },
  {
   "cell_type": "code",
   "execution_count": 31,
   "metadata": {},
   "outputs": [
    {
     "name": "stdout",
     "output_type": "stream",
     "text": [
      "Number of updates =   27. Decrypted text: on wy yhdnues inm whse kdrnesipre yeist wy giales uike we th\n",
      "Number of updates =   55. Decrypted text: on wy yhdnuer inm whre kdsneripse yeirt wy gialer uike we th\n",
      "Number of updates =   72. Decrypted text: oa wy yhdauer iam whre kdsaeripse yeirt wy ginler uike we th\n",
      "Number of updates =   98. Decrypted text: ia wy yhdager oam whre kdlaerople yeors wy uonter goke we sh\n",
      "Number of updates =  121. Decrypted text: ia wy yhtacer oam whre ktlaeroble yeors wy uonder coke we sh\n",
      "Number of updates =  138. Decrypted text: ia wy yhtacer oam whre ktlaeroble yeors wy uonder coke we sh\n",
      "Number of updates =  154. Decrypted text: ia wy yhtacer oam whre ktlaeroble yeors wy uonder coke we sh\n",
      "Number of updates =  171. Decrypted text: ia wy yutacer oam wure ktlaeroble yeors wy honder coke we su\n"
     ]
    },
    {
     "ename": "KeyboardInterrupt",
     "evalue": "",
     "output_type": "error",
     "traceback": [
      "\u001b[1;31m---------------------------------------------------------------------------\u001b[0m",
      "\u001b[1;31mKeyboardInterrupt\u001b[0m                         Traceback (most recent call last)",
      "\u001b[1;32mc:\\Users\\Jasraj\\Desktop\\UCL\\Unsupervised Learning\\Q5.ipynb Cell 13\u001b[0m line \u001b[0;36m9\n\u001b[0;32m      <a href='vscode-notebook-cell:/c%3A/Users/Jasraj/Desktop/UCL/Unsupervised%20Learning/Q5.ipynb#X42sZmlsZQ%3D%3D?line=6'>7</a>\u001b[0m proposal \u001b[39m=\u001b[39m permutation\u001b[39m.\u001b[39mcopy()\n\u001b[0;32m      <a href='vscode-notebook-cell:/c%3A/Users/Jasraj/Desktop/UCL/Unsupervised%20Learning/Q5.ipynb#X42sZmlsZQ%3D%3D?line=7'>8</a>\u001b[0m proposal[s], proposal[s_] \u001b[39m=\u001b[39m proposal[s_], proposal[s]\n\u001b[1;32m----> <a href='vscode-notebook-cell:/c%3A/Users/Jasraj/Desktop/UCL/Unsupervised%20Learning/Q5.ipynb#X42sZmlsZQ%3D%3D?line=8'>9</a>\u001b[0m log_likelihood_diff \u001b[39m=\u001b[39m log_likelihood(proposal) \u001b[39m-\u001b[39m log_likelihood(permutation)\n\u001b[0;32m     <a href='vscode-notebook-cell:/c%3A/Users/Jasraj/Desktop/UCL/Unsupervised%20Learning/Q5.ipynb#X42sZmlsZQ%3D%3D?line=10'>11</a>\u001b[0m \u001b[39mif\u001b[39;00m np\u001b[39m.\u001b[39mrandom\u001b[39m.\u001b[39muniform() \u001b[39m<\u001b[39m\u001b[39m=\u001b[39m np\u001b[39m.\u001b[39mexp(log_likelihood_diff):\n\u001b[0;32m     <a href='vscode-notebook-cell:/c%3A/Users/Jasraj/Desktop/UCL/Unsupervised%20Learning/Q5.ipynb#X42sZmlsZQ%3D%3D?line=11'>12</a>\u001b[0m     permutation \u001b[39m=\u001b[39m proposal\u001b[39m.\u001b[39mcopy()\n",
      "\u001b[1;32mc:\\Users\\Jasraj\\Desktop\\UCL\\Unsupervised Learning\\Q5.ipynb Cell 13\u001b[0m line \u001b[0;36m7\n\u001b[0;32m      <a href='vscode-notebook-cell:/c%3A/Users/Jasraj/Desktop/UCL/Unsupervised%20Learning/Q5.ipynb#X42sZmlsZQ%3D%3D?line=3'>4</a>\u001b[0m decrypted_text \u001b[39m=\u001b[39m \u001b[39m'\u001b[39m\u001b[39m'\u001b[39m\u001b[39m.\u001b[39mjoin([sigma_inv[e] \u001b[39mfor\u001b[39;00m e \u001b[39min\u001b[39;00m message])\n\u001b[0;32m      <a href='vscode-notebook-cell:/c%3A/Users/Jasraj/Desktop/UCL/Unsupervised%20Learning/Q5.ipynb#X42sZmlsZQ%3D%3D?line=5'>6</a>\u001b[0m l \u001b[39m=\u001b[39m np\u001b[39m.\u001b[39mlog(mc\u001b[39m.\u001b[39mlimiting_prob(decrypted_text[\u001b[39m0\u001b[39m]))\n\u001b[1;32m----> <a href='vscode-notebook-cell:/c%3A/Users/Jasraj/Desktop/UCL/Unsupervised%20Learning/Q5.ipynb#X42sZmlsZQ%3D%3D?line=6'>7</a>\u001b[0m \u001b[39mfor\u001b[39;00m beta, alpha \u001b[39min\u001b[39;00m \u001b[39mzip\u001b[39m(decrypted_text[:\u001b[39m-\u001b[39m\u001b[39m1\u001b[39m], decrypted_text[\u001b[39m1\u001b[39m:]):\n\u001b[0;32m      <a href='vscode-notebook-cell:/c%3A/Users/Jasraj/Desktop/UCL/Unsupervised%20Learning/Q5.ipynb#X42sZmlsZQ%3D%3D?line=7'>8</a>\u001b[0m     transition_prob \u001b[39m=\u001b[39m mc\u001b[39m.\u001b[39mtransition_prob(beta, alpha)\n\u001b[0;32m      <a href='vscode-notebook-cell:/c%3A/Users/Jasraj/Desktop/UCL/Unsupervised%20Learning/Q5.ipynb#X42sZmlsZQ%3D%3D?line=8'>9</a>\u001b[0m     l \u001b[39m+\u001b[39m\u001b[39m=\u001b[39m np\u001b[39m.\u001b[39mlog(transition_prob\u001b[39m+\u001b[39m\u001b[39m1e-20\u001b[39m)\n",
      "\u001b[1;31mKeyboardInterrupt\u001b[0m: "
     ]
    }
   ],
   "source": [
    "permutation = {d: e for d, e in zip(sorted(war_and_peace_cntr.keys(), key=lambda x: war_and_peace_cntr[x]), sorted(message_cntr.keys(), key=lambda x: message_cntr[x]))}\n",
    "updates = 0\n",
    "\n",
    "for i in range(1, 50001):\n",
    "\n",
    "    s, s_ = np.random.choice(symbols, 2, replace=False)\n",
    "    proposal = permutation.copy()\n",
    "    proposal[s], proposal[s_] = proposal[s_], proposal[s]\n",
    "    log_likelihood_diff = log_likelihood(proposal) - log_likelihood(permutation)\n",
    "\n",
    "    if np.random.uniform() <= np.exp(log_likelihood_diff):\n",
    "        permutation = proposal.copy()\n",
    "        updates += 1\n",
    "\n",
    "    if i%100 == 0:\n",
    "        permutation_inv = {e: d for d, e in permutation.items()}\n",
    "        print(f\"Number of updates = {str(updates).rjust(4, ' ')}. Decrypted text: {''.join([permutation_inv[e] for e in message[:60]])}\")"
   ]
  },
  {
   "cell_type": "markdown",
   "metadata": {},
   "source": [
    "## 5 (e)"
   ]
  },
  {
   "cell_type": "code",
   "execution_count": null,
   "metadata": {},
   "outputs": [
    {
     "name": "stdout",
     "output_type": "stream",
     "text": [
      "Number of strongly connected components = 1\n"
     ]
    }
   ],
   "source": [
    "edges = list()\n",
    "for beta in symbols:\n",
    "    for alpha in symbols:\n",
    "        if mc.transition_prob(beta, alpha) > 0:\n",
    "            edges.append(tuple((beta, alpha)))\n",
    "\n",
    "G = nx.DiGraph()\n",
    "G.add_edges_from(edges)\n",
    "print(f'Number of strongly connected components = {len(list(nx.strongly_connected_components(G)))}')"
   ]
  },
  {
   "cell_type": "code",
   "execution_count": 28,
   "metadata": {},
   "outputs": [
    {
     "name": "stdout",
     "output_type": "stream",
     "text": [
      "Characters that can transition to themselves are -, ., ', *, 0, 1, 2, 6, 8, a, b, c, d, e, f, g, h, i, l, m, n, o, p, r, s, t, v, w, x, z\n"
     ]
    }
   ],
   "source": [
    "self_transition_probs = np.diag(mc.tm)\n",
    "chars = [symbols[i] for i in np.where(self_transition_probs > 0)[0]]\n",
    "\n",
    "print('Characters that can transition to themselves are ' + ', '.join(chars))"
   ]
  },
  {
   "cell_type": "code",
   "execution_count": null,
   "metadata": {},
   "outputs": [],
   "source": []
  }
 ],
 "metadata": {
  "kernelspec": {
   "display_name": "base",
   "language": "python",
   "name": "python3"
  },
  "language_info": {
   "codemirror_mode": {
    "name": "ipython",
    "version": 3
   },
   "file_extension": ".py",
   "mimetype": "text/x-python",
   "name": "python",
   "nbconvert_exporter": "python",
   "pygments_lexer": "ipython3",
   "version": "3.8.8"
  }
 },
 "nbformat": 4,
 "nbformat_minor": 2
}
