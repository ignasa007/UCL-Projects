{
 "cells": [
  {
   "cell_type": "code",
   "execution_count": 7,
   "metadata": {},
   "outputs": [],
   "source": [
    "import networkx as nx"
   ]
  },
  {
   "cell_type": "code",
   "execution_count": 13,
   "metadata": {},
   "outputs": [
    {
     "data": {
      "text/plain": [
       "['FEH', 'FIH', 'FADB', 'FADC', 'GEH', 'GC']"
      ]
     },
     "execution_count": 13,
     "metadata": {},
     "output_type": "execute_result"
    }
   ],
   "source": [
    "G = nx.Graph()\n",
    "\n",
    "G.add_edges_from([\n",
    "    'AB', 'AC', 'AD', 'AF', \n",
    "    'BD', 'BF', \n",
    "    'CD', 'CF', 'CG', \n",
    "    'DF', \n",
    "    'EF', 'EG', 'EH', \n",
    "    'FH', 'FI', \n",
    "    'GH', \n",
    "    'HI'\n",
    "])\n",
    "\n",
    "cliques = [''.join(clique) for clique in nx.find_cliques(G)]\n",
    "cliques"
   ]
  },
  {
   "cell_type": "code",
   "execution_count": 14,
   "metadata": {},
   "outputs": [
    {
     "name": "stdout",
     "output_type": "stream",
     "text": [
      "FADB FADC FAD\n",
      "FADC GC C\n",
      "FEH FADB F\n",
      "FEH FIH FH\n",
      "FEH GEH EH\n"
     ]
    }
   ],
   "source": [
    "G = nx.Graph()\n",
    "\n",
    "for i in range(len(cliques)-1):\n",
    "    clique_i = cliques[i]\n",
    "    for j in range(i+1, len(cliques)):\n",
    "        clique_j = cliques[j]\n",
    "        weight = len([c for c in clique_i if c in clique_j])\n",
    "        if weight:\n",
    "            G.add_edge(clique_i, clique_j, weight=weight)\n",
    "\n",
    "T = nx.maximum_spanning_tree(G)\n",
    "for node_i, node_j, weight in sorted(T.edges(data=True)):\n",
    "    print(node_i, node_j, ''.join([c for c in node_i if c in node_j]))"
   ]
  },
  {
   "cell_type": "code",
   "execution_count": 1,
   "metadata": {},
   "outputs": [],
   "source": [
    "children = {\n",
    "    'A': {'B', 'C'},\n",
    "    'B': {'F'},\n",
    "    'C': {'D', 'E'},\n",
    "    'D': {'B', 'F'},\n",
    "    'E': {'G', 'H'},\n",
    "    'F': {'I'},\n",
    "    'G': {'H'},\n",
    "    'H': {'I'},\n",
    "    'I': {'I'},\n",
    "}\n",
    "nodes = set(children.keys())\n",
    "\n",
    "markov_blankets = dict()\n",
    "\n",
    "for node in nodes:\n",
    "    mb = children[node]\n",
    "    parents = set((n for n in children if node in children[n]))\n",
    "    co_parents = set((n for child in children[node] for n in children if child in children[n] and n != node))\n",
    "    mb = mb.union(parents)\n",
    "    mb = mb.union(co_parents)\n",
    "    markov_blankets[node] = mb"
   ]
  },
  {
   "cell_type": "code",
   "execution_count": 5,
   "metadata": {},
   "outputs": [
    {
     "name": "stdout",
     "output_type": "stream",
     "text": [
      "('A', 'H') {'I', 'B', 'E', 'G', 'D', 'F', 'C'}\n",
      "('H', 'D') {'I', 'B', 'A', 'E', 'G', 'F', 'C'}\n",
      "('B', 'H', 'C') {'I', 'A', 'E', 'G', 'D', 'F'}\n",
      "('A', 'E', 'F') {'I', 'B', 'G', 'H', 'D', 'C'}\n",
      "('A', 'G', 'F') {'I', 'B', 'E', 'H', 'D', 'C'}\n",
      "('G', 'F', 'C') {'I', 'B', 'A', 'E', 'H', 'D'}\n"
     ]
    }
   ],
   "source": [
    "from itertools import chain, combinations\n",
    "\n",
    "def powerset(iterable):\n",
    "    \"powerset([1,2,3]) --> () (1,) (2,) (3,) (1,2) (1,3) (2,3) (1,2,3)\"\n",
    "    s = list(iterable)\n",
    "    return chain.from_iterable(combinations(s, r) for r in range(len(s)+1))\n",
    "\n",
    "for unobserved_nodes in powerset(nodes):\n",
    "    markov_blankets_union = set()\n",
    "    markov_blankets_union = markov_blankets_union.union(*[markov_blankets[unobserved_node] for unobserved_node in unobserved_nodes])\n",
    "    if markov_blankets_union.intersection(unobserved_nodes) == set() and markov_blankets_union.union(unobserved_nodes) == nodes:\n",
    "        print(unobserved_nodes, nodes.difference(unobserved_nodes))"
   ]
  },
  {
   "cell_type": "code",
   "execution_count": null,
   "metadata": {},
   "outputs": [],
   "source": []
  }
 ],
 "metadata": {
  "kernelspec": {
   "display_name": "base",
   "language": "python",
   "name": "python3"
  },
  "language_info": {
   "codemirror_mode": {
    "name": "ipython",
    "version": 3
   },
   "file_extension": ".py",
   "mimetype": "text/x-python",
   "name": "python",
   "nbconvert_exporter": "python",
   "pygments_lexer": "ipython3",
   "version": "3.8.8"
  }
 },
 "nbformat": 4,
 "nbformat_minor": 2
}
