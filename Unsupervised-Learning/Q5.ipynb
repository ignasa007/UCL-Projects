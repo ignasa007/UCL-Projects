{
 "cells": [
  {
   "cell_type": "markdown",
   "metadata": {},
   "source": [
    "# Decrypting Messages with MCMC"
   ]
  },
  {
   "cell_type": "code",
   "execution_count": 13,
   "metadata": {},
   "outputs": [],
   "source": [
    "from collections import Counter\n",
    "import numpy as np\n",
    "import networkx as nx\n",
    "\n",
    "from Q5a import mc"
   ]
  },
  {
   "cell_type": "code",
   "execution_count": null,
   "metadata": {},
   "outputs": [
    {
     "name": "stdout",
     "output_type": "stream",
     "text": [
      "Number of strongly connected components = 1\n"
     ]
    }
   ],
   "source": [
    "edges = list()\n",
    "for beta in symbols:\n",
    "    for alpha in symbols:\n",
    "        if mc.transition_prob(beta, alpha) > 0:\n",
    "            edges.append(tuple((beta, alpha)))\n",
    "\n",
    "G = nx.DiGraph()\n",
    "G.add_edges_from(edges)\n",
    "print(f'Number of strongly connected components = {len(list(nx.strongly_connected_components(G)))}')"
   ]
  },
  {
   "cell_type": "code",
   "execution_count": 28,
   "metadata": {},
   "outputs": [
    {
     "name": "stdout",
     "output_type": "stream",
     "text": [
      "Characters that can transition to themselves are -, ., ', *, 0, 1, 2, 6, 8, a, b, c, d, e, f, g, h, i, l, m, n, o, p, r, s, t, v, w, x, z\n"
     ]
    }
   ],
   "source": [
    "self_transition_probs = np.diag(mc.tm)\n",
    "chars = [symbols[i] for i in np.where(self_transition_probs > 0)[0]]\n",
    "\n",
    "print('Characters that can transition to themselves are ' + ', '.join(chars))"
   ]
  },
  {
   "cell_type": "code",
   "execution_count": null,
   "metadata": {},
   "outputs": [],
   "source": []
  }
 ],
 "metadata": {
  "kernelspec": {
   "display_name": "base",
   "language": "python",
   "name": "python3"
  },
  "language_info": {
   "codemirror_mode": {
    "name": "ipython",
    "version": 3
   },
   "file_extension": ".py",
   "mimetype": "text/x-python",
   "name": "python",
   "nbconvert_exporter": "python",
   "pygments_lexer": "ipython3",
   "version": "3.8.8"
  }
 },
 "nbformat": 4,
 "nbformat_minor": 2
}
