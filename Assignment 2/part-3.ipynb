{
 "cells": [
  {
   "cell_type": "code",
   "execution_count": null,
   "metadata": {},
   "outputs": [],
   "source": [
    "from tqdm.notebook import tqdm\n",
    "import numpy as np\n",
    "import pandas as pd\n",
    "from sklearn.model_selection import train_test_split, KFold\n",
    "import matplotlib.pyplot as plt\n",
    "from plots import heatmap, annotate_heatmap"
   ]
  },
  {
   "cell_type": "code",
   "execution_count": null,
   "metadata": {},
   "outputs": [],
   "source": [
    "def import_data(fn):\n",
    "    data = np.loadtxt(fn)\n",
    "    inputs, labels = data[:, 1:], data[:, 0]\n",
    "    return inputs, labels"
   ]
  },
  {
   "cell_type": "code",
   "execution_count": null,
   "metadata": {},
   "outputs": [],
   "source": [
    "class PolynomialKernel:\n",
    "\n",
    "    def __init__(self, X1, X2=None):\n",
    "        self.base_kernel_matrix = self.base_kernel(X1, X2 if X2 is not None else X1)\n",
    "\n",
    "    def base_kernel(self, a, b):\n",
    "        dot_products = np.dot(a, b.T)\n",
    "        return dot_products\n",
    "    \n",
    "    def kernel(self, hparam, row_indices=None, col_indices=None):\n",
    "        if row_indices is None:\n",
    "            row_indices = np.arange(self.base_kernel_matrix.shape[0])\n",
    "        if col_indices is None:\n",
    "            col_indices = np.arange(self.base_kernel_matrix.shape[1])\n",
    "        kernel_matrix = np.power(self.base_kernel_matrix[np.ix_(row_indices, col_indices)], hparam)\n",
    "        return kernel_matrix\n",
    "    \n",
    "def init_coefs(n_classes, train_size):\n",
    "    coefs = np.zeros((n_classes, train_size))\n",
    "    return coefs\n",
    "    \n",
    "def predict(coefs, kernel_values):\n",
    "    predictions = coefs.dot(kernel_values)\n",
    "    return predictions\n",
    "\n",
    "def sign(x):\n",
    "    return np.where(x <= 0., -1., 1.)"
   ]
  },
  {
   "cell_type": "code",
   "execution_count": null,
   "metadata": {},
   "outputs": [],
   "source": [
    "from time import time\n",
    "\n",
    "def train(train_kernel, train_y, coefs, n_epochs=1):\n",
    "    \n",
    "    mistakes = np.zeros(n_epochs, dtype=np.uint16)\n",
    "    for epoch in range(n_epochs):\n",
    "        for i, y in enumerate(train_y):\n",
    "            labels = np.full(coefs.shape[0], -1.); labels[int(y)-1] = 1.\n",
    "            predictions = predict(coefs, train_kernel[i])\n",
    "            updates = np.where(labels*predictions <= 0., sign(predictions), 0.)\n",
    "            coefs[:, i] -= updates\n",
    "            if np.argmax(predictions) != y:\n",
    "                mistakes[epoch] += 1\n",
    "    return coefs, mistakes\n",
    "\n",
    "def test(test_kernel, test_y, coefs):\n",
    "\n",
    "    mistakes = 0\n",
    "    for i, y in enumerate(test_y):\n",
    "        prediction = np.argmax(predict(coefs, test_kernel[i]))\n",
    "        if prediction != y:\n",
    "            mistakes += 1\n",
    "\n",
    "    return mistakes"
   ]
  },
  {
   "cell_type": "code",
   "execution_count": null,
   "metadata": {},
   "outputs": [],
   "source": [
    "def execute_run(train_x, train_y, test_x, test_y, d=3, n_classes=3, n_epochs=3):\n",
    "\n",
    "    train_kernel = PolynomialKernel(train_x).kernel(d)\n",
    "    test_kernel = PolynomialKernel(test_x, train_x).kernel(d)\n",
    "    coefs = init_coefs(n_classes, train_x.shape[0])\n",
    "    for i in range(1, n_epochs+1):\n",
    "        coefs, train_mistakes = train(train_kernel, train_y, coefs, n_epochs=1)\n",
    "        test_mistakes = test(test_kernel, test_y, coefs)\n",
    "        print(f\"Epoch {i} - {train_mistakes[0]} mistakes out of {train_x.shape[0]} items on training set, test error is {test_mistakes/test_x.shape[0]*100:.3f}%.\")\n",
    "    \n",
    "    return coefs, train_mistakes[0], test_mistakes"
   ]
  },
  {
   "cell_type": "code",
   "execution_count": null,
   "metadata": {},
   "outputs": [],
   "source": [
    "train_x, train_y = import_data(\"dtrain123.dat\")\n",
    "test_x, test_y = import_data(\"dtest123.dat\")\n",
    "\n",
    "coefs, *_ = execute_run(train_x, train_y, test_x, test_y, d=3, n_classes=3, n_epochs=3)"
   ]
  },
  {
   "cell_type": "markdown",
   "metadata": {},
   "source": [
    "### Question 1"
   ]
  },
  {
   "cell_type": "code",
   "execution_count": null,
   "metadata": {},
   "outputs": [],
   "source": [
    "X, Y = import_data(\"zipcombo.dat\")\n",
    "full_kernel = PolynomialKernel(X)"
   ]
  },
  {
   "cell_type": "code",
   "execution_count": null,
   "metadata": {},
   "outputs": [],
   "source": [
    "n_runs = 20\n",
    "ds = range(1, 8)\n",
    "\n",
    "error_rates = {'train': np.zeros((n_runs, len(ds))), 'test': np.zeros((n_runs, len(ds)))}\n",
    "\n",
    "for i in tqdm(range(len(ds))):\n",
    "\n",
    "    d = ds[i]\n",
    "    full_kernel_d = full_kernel.kernel(d)\n",
    "\n",
    "    for run in range(n_runs):\n",
    "\n",
    "        train_indices, test_indices = train_test_split(np.arange(X.shape[0]), train_size=0.8, shuffle=True)\n",
    "        train_kernel, test_kernel = full_kernel_d[np.ix_(train_indices, train_indices)], full_kernel_d[np.ix_(test_indices, train_indices)]\n",
    "        train_y, test_y = Y[train_indices], Y[test_indices]\n",
    "\n",
    "        coefs = init_coefs(n_classes=10, train_size=train_indices.size)\n",
    "        coefs, train_mistakes = train(train_kernel, train_y, coefs, n_epochs=3)\n",
    "        test_mistakes = test(test_kernel, test_y, coefs)\n",
    "        \n",
    "        error_rates['train'][run, i] = train_mistakes[-1]/train_y.size\n",
    "        error_rates['test'][run, i] = test_mistakes/test_y.size\n",
    "\n",
    "error_rates['train'] = [f'{m:.3f} ± {s:.3f}' for m, s in zip(np.mean(error_rates['train'], axis=0), np.std(error_rates['train'], axis=0))]\n",
    "error_rates['test']  = [f'{m:.3f} ± {s:.3f}' for m, s in zip(np.mean(error_rates['test'], axis=0),  np.std(error_rates['test'], axis=0))]\n",
    "\n",
    "pd.DataFrame(data=error_rates, index=ds)"
   ]
  },
  {
   "cell_type": "markdown",
   "metadata": {},
   "source": [
    "### Questions 2 and 3"
   ]
  },
  {
   "cell_type": "code",
   "execution_count": null,
   "metadata": {},
   "outputs": [],
   "source": [
    "def test_cm(test_kernel, test_y, coefs):\n",
    "\n",
    "    mistakes = 0\n",
    "    cm = np.zeros((10, 10))\n",
    "    for i, y in enumerate(test_y):\n",
    "        prediction = np.argmax(predict(coefs, test_kernel[i]))\n",
    "        cm[int(y), prediction] += 1\n",
    "        if prediction != y:\n",
    "            mistakes += 1\n",
    "\n",
    "    return mistakes, cm"
   ]
  },
  {
   "cell_type": "code",
   "execution_count": null,
   "metadata": {},
   "outputs": [],
   "source": [
    "kfold = KFold(n_splits=5, shuffle=True)\n",
    "\n",
    "confusion_matrix = np.zeros((n_runs, 10, 10))\n",
    "results = {'d_star': np.zeros((n_runs,)), 'test_error': np.zeros((n_runs,))}\n",
    "\n",
    "for run in tqdm(range(n_runs)):\n",
    "    \n",
    "    train_indices, test_indices = train_test_split(np.arange(X.shape[0]), train_size=0.8, shuffle=True)\n",
    "    \n",
    "    val_errors = np.zeros((len(ds), kfold.get_n_splits()))\n",
    "    for i, d in enumerate(ds):\n",
    "        full_kernel_d = full_kernel.kernel(d)\n",
    "        for fold, (train_fold, val_fold) in enumerate(kfold.split(train_indices)):\n",
    "            train_kernel, val_kernel = full_kernel_d[np.ix_(train_fold, train_fold)], full_kernel_d[np.ix_(val_fold, train_fold)]\n",
    "            train_y, val_y = Y[train_fold], Y[val_fold]\n",
    "            coefs = init_coefs(n_classes=10, train_size=train_fold.size)\n",
    "            coefs, _ = train(train_kernel, train_y, coefs, n_epochs=3)\n",
    "            val_mistakes = test(val_kernel, val_y, coefs)\n",
    "            val_errors[i, fold] = val_mistakes/val_y.size\n",
    "    val_errors = val_errors.mean(axis=1)\n",
    "    d_star = np.argmin(val_errors)\n",
    "\n",
    "    full_kernel_d = full_kernel.kernel(ds[d_star])\n",
    "    train_kernel, test_kernel = full_kernel_d[np.ix_(train_indices, train_indices)], full_kernel_d[np.ix_(test_indices, train_indices)]\n",
    "    train_y, test_y = Y[train_indices], Y[test_indices]\n",
    "    coefs = init_coefs(n_classes=10, train_size=train_indices.size)\n",
    "    coefs, _ = train(train_kernel, train_y, coefs, n_epochs=3)\n",
    "    test_mistakes, confusion_matrix[run] = test_cm(test_kernel, test_y, coefs)\n",
    "    results['d_star'][run] = ds[d_star]; results['test_error'][run] = test_mistakes/test_y.size"
   ]
  },
  {
   "cell_type": "code",
   "execution_count": null,
   "metadata": {},
   "outputs": [],
   "source": [
    "print(f\"d* = {np.mean(results['d_star']):.3f} ± {np.std(results['d_star']):.3f}\")\n",
    "print(f\"test error = {np.mean(results['test_error']):.3f} ± {np.std(results['test_error']):.3f}\")\n",
    "\n",
    "confusion_matrix = confusion_matrix / confusion_matrix.sum(axis=2, keepdims=True)\n",
    "cm_mean = np.mean(confusion_matrix, axis=0)\n",
    "cm_std = np.std(confusion_matrix, axis=0)\n",
    "labels = np.array([f\"{mean:.1f} ±\\n{std:.1f}\" for mean, std in zip(cm_mean.flatten(), cm_std.flatten())]).reshape(cm_mean.shape)\n",
    "\n",
    "fig, axs = plt.subplots(figsize=(8, 8))\n",
    "im, cbar = heatmap(cm_mean, np.arange(10), np.arange(10), ax=axs, cmap=\"Blues\")\n",
    "texts = annotate_heatmap(im, labels=labels)\n",
    "fig.tight_layout()\n",
    "plt.show()"
   ]
  },
  {
   "cell_type": "markdown",
   "metadata": {},
   "source": [
    "### Question 4"
   ]
  },
  {
   "cell_type": "code",
   "execution_count": null,
   "metadata": {},
   "outputs": [],
   "source": [
    "def hardest_test_samples(test_kernel, test_y, coefs):\n",
    "\n",
    "    errors = np.zeros_like(test_y)\n",
    "    for i, y in enumerate(test_y):\n",
    "        prediction = np.argmax(predict(coefs, test_kernel[i]))\n",
    "        errors[i] = y*prediction\n",
    "\n",
    "    return np.argpartition(errors, 5)[:5]"
   ]
  },
  {
   "cell_type": "code",
   "execution_count": null,
   "metadata": {},
   "outputs": [],
   "source": [
    "d = ds[i]\n",
    "full_kernel_d = full_kernel.kernel(d)\n",
    "\n",
    "train_indices, test_indices = train_test_split(np.arange(X.shape[0]), train_size=0.8, shuffle=True)\n",
    "train_kernel, test_kernel = full_kernel_d[np.ix_(train_indices, train_indices)], full_kernel_d[np.ix_(test_indices, train_indices)]\n",
    "train_y, test_y = Y[train_indices], Y[test_indices]\n",
    "\n",
    "coefs = init_coefs(n_classes=10, train_size=train_indices.size)\n",
    "coefs, train_mistakes = train(train_kernel, train_y, coefs, n_epochs=3)\n",
    "indices = hardest_test_samples(test_kernel, test_y, coefs)\n",
    "hardest_samples = test_indices[indices]"
   ]
  }
 ],
 "metadata": {
  "kernelspec": {
   "display_name": "base",
   "language": "python",
   "name": "python3"
  },
  "language_info": {
   "codemirror_mode": {
    "name": "ipython",
    "version": 3
   },
   "file_extension": ".py",
   "mimetype": "text/x-python",
   "name": "python",
   "nbconvert_exporter": "python",
   "pygments_lexer": "ipython3",
   "version": "3.8.8"
  }
 },
 "nbformat": 4,
 "nbformat_minor": 2
}
