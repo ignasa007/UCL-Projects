{
 "cells": [
  {
   "cell_type": "code",
   "execution_count": 1,
   "metadata": {},
   "outputs": [],
   "source": [
    "from pathlib import Path\n",
    "import shutil\n",
    "from itertools import combinations\n",
    "from tqdm.notebook import tqdm\n",
    "\n",
    "import numpy as np\n",
    "import pandas as pd\n",
    "from sklearn.model_selection import train_test_split, KFold\n",
    "import matplotlib.pyplot as plt\n",
    "\n",
    "from plots import heatmap, annotate_heatmap\n",
    "\n",
    "%matplotlib inline"
   ]
  },
  {
   "cell_type": "code",
   "execution_count": 2,
   "metadata": {},
   "outputs": [],
   "source": [
    "def import_data(fn):\n",
    "    data = np.loadtxt(fn)\n",
    "    inputs, labels = data[:, 1:], data[:, 0]\n",
    "    return inputs, labels\n",
    "\n",
    "X, Y = import_data('zipcombo.dat')\n",
    "n_classes = 10"
   ]
  },
  {
   "cell_type": "code",
   "execution_count": 3,
   "metadata": {},
   "outputs": [],
   "source": [
    "class BaseKernel:\n",
    "\n",
    "    def __init__(self, X1, X2=None):\n",
    "        self.base_kernel_matrix = self.base_kernel(X1, X2 if X2 is not None else X1)\n",
    "\n",
    "    def base_kernel(self, a, b):\n",
    "        raise NotImplementedError\n",
    "    \n",
    "    def indices(self, row_indices, col_indices):\n",
    "        if row_indices is None:\n",
    "            row_indices = np.arange(self.base_kernel_matrix.shape[0])\n",
    "        if col_indices is None:\n",
    "            col_indices = np.arange(self.base_kernel_matrix.shape[1])\n",
    "        return np.ix_(row_indices, col_indices)\n",
    "    \n",
    "    def kernel(self, hparam, row_indices=None, col_indices=None):\n",
    "        raise NotImplementedError"
   ]
  },
  {
   "cell_type": "code",
   "execution_count": 4,
   "metadata": {},
   "outputs": [],
   "source": [
    "class PolynomialKernel(BaseKernel):\n",
    "\n",
    "    def __init__(self, X1, X2=None):\n",
    "        super().__init__(X1, X2)\n",
    "\n",
    "    def base_kernel(self, a, b):\n",
    "        dot_products = np.dot(a, b.T)\n",
    "        return dot_products\n",
    "    \n",
    "    def kernel(self, hparam, row_indices=None, col_indices=None):\n",
    "        indices = self.indices(row_indices, col_indices)\n",
    "        kernel_matrix = np.power(self.base_kernel_matrix[indices], hparam)\n",
    "        return kernel_matrix\n",
    "    \n",
    "full_kernel = PolynomialKernel(X)"
   ]
  },
  {
   "cell_type": "code",
   "execution_count": 5,
   "metadata": {},
   "outputs": [],
   "source": [
    "def init_coefs(n_classifiers, train_size):\n",
    "    coefs = np.zeros((n_classifiers, train_size))\n",
    "    return coefs\n",
    "    \n",
    "def predict(coefs, kernel_values):\n",
    "    predictions = np.dot(coefs, kernel_values)\n",
    "    return predictions\n",
    "\n",
    "def sign(x):\n",
    "    return np.where(x <= 0., -1., 1.)"
   ]
  },
  {
   "cell_type": "code",
   "execution_count": 6,
   "metadata": {},
   "outputs": [],
   "source": [
    "def train(train_kernel, train_y, coefs, n_epochs=1):\n",
    "    \n",
    "    mistakes = [0 for _ in range(n_epochs)]\n",
    "    for epoch in range(n_epochs):\n",
    "        for i in range(train_y.size):\n",
    "            features, y = train_kernel[i], train_y[i]\n",
    "            predictions = predict(coefs, features); argmax = np.argmax(predictions)\n",
    "            if argmax != y:\n",
    "                mistakes[epoch] += 1\n",
    "            labels = np.full(coefs.shape[0], -1.); labels[int(y)] = 1.\n",
    "            updates = np.where(labels*predictions <= 0., sign(predictions), 0.)\n",
    "            coefs[:, i] -= updates\n",
    "    return coefs, mistakes\n",
    "\n",
    "def test(test_kernel, test_y, coefs, return_cm=False):\n",
    "\n",
    "    mistakes = 0\n",
    "    if return_cm:\n",
    "        confusion_matrix = np.zeros((coefs.shape[0], coefs.shape[0]))\n",
    "    for i in range(test_y.size):\n",
    "        features, y = test_kernel[i], test_y[i]\n",
    "        predictions = predict(coefs, features); argmax = np.argmax(predictions)\n",
    "        if argmax != y:\n",
    "            mistakes += 1\n",
    "        if return_cm:\n",
    "            confusion_matrix[int(y), argmax] += 1\n",
    "\n",
    "    return mistakes, (confusion_matrix if return_cm else None)"
   ]
  },
  {
   "cell_type": "markdown",
   "metadata": {},
   "source": [
    "### Demo"
   ]
  },
  {
   "cell_type": "code",
   "execution_count": 7,
   "metadata": {},
   "outputs": [],
   "source": [
    "def execute_run(train_x, train_y, test_x, test_y, d=3, n_classes=3, n_epochs=3):\n",
    "\n",
    "    train_kernel = PolynomialKernel(train_x).kernel(d)\n",
    "    test_kernel = PolynomialKernel(test_x, train_x).kernel(d)\n",
    "    coefs = init_coefs(n_classes, train_x.shape[0])\n",
    "    for i in range(1, n_epochs+1):\n",
    "        coefs, train_mistakes = train(train_kernel, train_y, coefs, n_epochs=1)\n",
    "        test_mistakes, _ = test(test_kernel, test_y, coefs, return_cm=False)\n",
    "        print(f'Epoch {i} - {train_mistakes[-1]} mistakes out of {train_x.shape[0]} items on training set, test error is {test_mistakes/test_x.shape[0]*100:.3f}%.')\n",
    "    \n",
    "    return coefs, train_mistakes[0], test_mistakes"
   ]
  },
  {
   "cell_type": "code",
   "execution_count": 8,
   "metadata": {},
   "outputs": [
    {
     "name": "stdout",
     "output_type": "stream",
     "text": [
      "Epoch 1 - 15 mistakes out of 329 items on training set, test error is 3.509%.\n",
      "Epoch 2 - 3 mistakes out of 329 items on training set, test error is 2.851%.\n",
      "Epoch 3 - 0 mistakes out of 329 items on training set, test error is 2.632%.\n"
     ]
    }
   ],
   "source": [
    "train_x, train_y = import_data('dtrain123.dat')\n",
    "test_x, test_y = import_data('dtest123.dat')\n",
    "\n",
    "coefs, *_ = execute_run(train_x, train_y-1, test_x, test_y-1, d=3, n_classes=3, n_epochs=3)"
   ]
  },
  {
   "cell_type": "markdown",
   "metadata": {},
   "source": [
    "### Question 1"
   ]
  },
  {
   "cell_type": "code",
   "execution_count": 9,
   "metadata": {},
   "outputs": [],
   "source": [
    "n_classifiers = n_classes"
   ]
  },
  {
   "cell_type": "code",
   "execution_count": 10,
   "metadata": {},
   "outputs": [],
   "source": [
    "def question_1(n_runs, hparams, n_epochs):\n",
    "\n",
    "    error_rates = {'train': np.zeros((n_runs, len(hparams))), 'test': np.zeros((n_runs, len(hparams)))}\n",
    "\n",
    "    for i in tqdm(range(len(hparams))):\n",
    "\n",
    "        hparam = hparams[i]\n",
    "        full_kernel_d = full_kernel.kernel(hparam)\n",
    "\n",
    "        for run in range(n_runs):\n",
    "\n",
    "            train_indices, test_indices = train_test_split(np.arange(X.shape[0]), train_size=0.8, shuffle=True)\n",
    "            train_kernel, test_kernel = full_kernel_d[np.ix_(train_indices, train_indices)], full_kernel_d[np.ix_(test_indices, train_indices)]\n",
    "            train_y, test_y = Y[train_indices], Y[test_indices]\n",
    "\n",
    "            coefs = init_coefs(n_classifiers, train_indices.size)\n",
    "            coefs, train_mistakes = train(train_kernel, train_y, coefs, n_epochs=n_epochs)\n",
    "            test_mistakes, _ = test(test_kernel, test_y, coefs, return_cm=False)\n",
    "            \n",
    "            error_rates['train'][run, i] = train_mistakes[-1]/train_y.size\n",
    "            error_rates['test'][run, i] = test_mistakes/test_y.size\n",
    "\n",
    "    error_rates['train'] = [f'{100*m:.3f} ± {100*s:.3f}' for m, s in zip(np.mean(error_rates['train'], axis=0), np.std(error_rates['train'], axis=0))]\n",
    "    error_rates['test']  = [f'{100*m:.3f} ± {100*s:.3f}' for m, s in zip(np.mean(error_rates['test'], axis=0),  np.std(error_rates['test'], axis=0))]\n",
    "\n",
    "    return error_rates"
   ]
  },
  {
   "cell_type": "code",
   "execution_count": 11,
   "metadata": {},
   "outputs": [
    {
     "data": {
      "application/vnd.jupyter.widget-view+json": {
       "model_id": "81c9e082e1884eb3ab17f8f492971c89",
       "version_major": 2,
       "version_minor": 0
      },
      "text/plain": [
       "  0%|          | 0/7 [00:00<?, ?it/s]"
      ]
     },
     "metadata": {},
     "output_type": "display_data"
    },
    {
     "data": {
      "text/html": [
       "<div>\n",
       "<style scoped>\n",
       "    .dataframe tbody tr th:only-of-type {\n",
       "        vertical-align: middle;\n",
       "    }\n",
       "\n",
       "    .dataframe tbody tr th {\n",
       "        vertical-align: top;\n",
       "    }\n",
       "\n",
       "    .dataframe thead th {\n",
       "        text-align: right;\n",
       "    }\n",
       "</style>\n",
       "<table border=\"1\" class=\"dataframe\">\n",
       "  <thead>\n",
       "    <tr style=\"text-align: right;\">\n",
       "      <th></th>\n",
       "      <th>Train error (%)</th>\n",
       "      <th>Test error (%)</th>\n",
       "    </tr>\n",
       "    <tr>\n",
       "      <th>Degree</th>\n",
       "      <th></th>\n",
       "      <th></th>\n",
       "    </tr>\n",
       "  </thead>\n",
       "  <tbody>\n",
       "    <tr>\n",
       "      <th>1</th>\n",
       "      <td>8.823 ± 0.190</td>\n",
       "      <td>10.032 ± 1.510</td>\n",
       "    </tr>\n",
       "    <tr>\n",
       "      <th>2</th>\n",
       "      <td>1.870 ± 0.124</td>\n",
       "      <td>4.285 ± 0.519</td>\n",
       "    </tr>\n",
       "    <tr>\n",
       "      <th>3</th>\n",
       "      <td>0.758 ± 0.104</td>\n",
       "      <td>3.433 ± 0.424</td>\n",
       "    </tr>\n",
       "    <tr>\n",
       "      <th>4</th>\n",
       "      <td>0.424 ± 0.069</td>\n",
       "      <td>3.280 ± 0.326</td>\n",
       "    </tr>\n",
       "    <tr>\n",
       "      <th>5</th>\n",
       "      <td>0.294 ± 0.066</td>\n",
       "      <td>2.847 ± 0.469</td>\n",
       "    </tr>\n",
       "    <tr>\n",
       "      <th>6</th>\n",
       "      <td>0.210 ± 0.051</td>\n",
       "      <td>2.933 ± 0.409</td>\n",
       "    </tr>\n",
       "    <tr>\n",
       "      <th>7</th>\n",
       "      <td>0.188 ± 0.055</td>\n",
       "      <td>3.008 ± 0.336</td>\n",
       "    </tr>\n",
       "  </tbody>\n",
       "</table>\n",
       "</div>"
      ],
      "text/plain": [
       "       Train error (%)  Test error (%)\n",
       "Degree                                \n",
       "1        8.823 ± 0.190  10.032 ± 1.510\n",
       "2        1.870 ± 0.124   4.285 ± 0.519\n",
       "3        0.758 ± 0.104   3.433 ± 0.424\n",
       "4        0.424 ± 0.069   3.280 ± 0.326\n",
       "5        0.294 ± 0.066   2.847 ± 0.469\n",
       "6        0.210 ± 0.051   2.933 ± 0.409\n",
       "7        0.188 ± 0.055   3.008 ± 0.336"
      ]
     },
     "execution_count": 11,
     "metadata": {},
     "output_type": "execute_result"
    }
   ],
   "source": [
    "n_runs, n_epochs = 20, 3\n",
    "ds = range(1, 8)\n",
    "error_rates = question_1(n_runs=n_runs, hparams=ds, n_epochs=n_epochs)\n",
    "\n",
    "df = pd.DataFrame(data=zip(*error_rates.values()), index=ds, columns=('Train error (%)', 'Test error (%)'))\n",
    "df.index = df.index.rename('Degree')\n",
    "df"
   ]
  },
  {
   "cell_type": "markdown",
   "metadata": {},
   "source": [
    "### Questions 2 and 3"
   ]
  },
  {
   "cell_type": "code",
   "execution_count": 12,
   "metadata": {},
   "outputs": [],
   "source": [
    "def question_2(n_runs, n_splits, hparams, n_epochs, return_cm=True):\n",
    "\n",
    "    kfold = KFold(n_splits=n_splits, shuffle=True)\n",
    "\n",
    "    confusion_matrix = [None for _ in range(n_runs)]\n",
    "    results = {'hparam_star': np.zeros((n_runs,)), 'test_error': np.zeros((n_runs,))}\n",
    "\n",
    "    for run in tqdm(range(n_runs)):\n",
    "        \n",
    "        train_indices, test_indices = train_test_split(np.arange(X.shape[0]), train_size=0.8, shuffle=True)\n",
    "        \n",
    "        val_errors = np.zeros((len(hparams), kfold.get_n_splits()))\n",
    "        for i, hparam in enumerate(hparams):\n",
    "            full_kernel_d = full_kernel.kernel(hparam)\n",
    "            for fold, (train_fold, val_fold) in enumerate(kfold.split(train_indices)):\n",
    "                train_kernel, val_kernel = full_kernel_d[np.ix_(train_fold, train_fold)], full_kernel_d[np.ix_(val_fold, train_fold)]\n",
    "                train_y, val_y = Y[train_fold], Y[val_fold]\n",
    "                coefs = init_coefs(n_classifiers, train_fold.size)\n",
    "                coefs, _ = train(train_kernel, train_y, coefs, n_epochs=n_epochs)\n",
    "                val_mistakes, _ = test(val_kernel, val_y, coefs, return_cm=False)\n",
    "                val_errors[i, fold] = val_mistakes/val_y.size\n",
    "        val_errors = val_errors.mean(axis=1)\n",
    "        hparam_star = hparams[np.argmin(val_errors)]; results['hparam_star'][run] = hparam_star\n",
    "\n",
    "        full_kernel_d = full_kernel.kernel(hparam_star)\n",
    "        train_kernel, test_kernel = full_kernel_d[np.ix_(train_indices, train_indices)], full_kernel_d[np.ix_(test_indices, train_indices)]\n",
    "        train_y, test_y = Y[train_indices], Y[test_indices]\n",
    "        coefs = init_coefs(n_classifiers, train_indices.size)\n",
    "        coefs, _ = train(train_kernel, train_y, coefs, n_epochs=n_epochs)\n",
    "        test_mistakes, confusion_matrix[run] = test(test_kernel, test_y, coefs, return_cm=return_cm)\n",
    "        results['test_error'][run] = test_mistakes/test_y.size\n",
    "\n",
    "    return results, (np.stack(confusion_matrix) if return_cm else None)"
   ]
  },
  {
   "cell_type": "code",
   "execution_count": 13,
   "metadata": {},
   "outputs": [
    {
     "data": {
      "application/vnd.jupyter.widget-view+json": {
       "model_id": "e5498d743f5b4161855081c61199301f",
       "version_major": 2,
       "version_minor": 0
      },
      "text/plain": [
       "  0%|          | 0/20 [00:00<?, ?it/s]"
      ]
     },
     "metadata": {},
     "output_type": "display_data"
    }
   ],
   "source": [
    "n_splits = 5\n",
    "results, confusion_matrix = question_2(n_runs=n_runs, n_splits=n_splits, hparams=ds, n_epochs=n_epochs, return_cm=True)"
   ]
  },
  {
   "cell_type": "code",
   "execution_count": 14,
   "metadata": {},
   "outputs": [
    {
     "name": "stdout",
     "output_type": "stream",
     "text": [
      "d* = 6.050 ± 0.740\n",
      "Test error (%) = 3.091 ± 0.408\n"
     ]
    },
    {
     "data": {
      "image/png": "[encoded data removed]",
      "text/plain": [
       "<Figure size 700x700 with 2 Axes>"
      ]
     },
     "metadata": {},
     "output_type": "display_data"
    }
   ],
   "source": [
    "print(f\"d* = {np.mean(results['hparam_star']):.3f} ± {np.std(results['hparam_star']):.3f}\")\n",
    "print(f\"Test error (%) = {100*np.mean(results['test_error']):.3f} ± {100*np.std(results['test_error']):.3f}\")\n",
    "\n",
    "confusion_matrix = confusion_matrix / confusion_matrix.sum(axis=2, keepdims=True)\n",
    "cm_mean = np.mean(confusion_matrix, axis=0); np.fill_diagonal(cm_mean, 0.)\n",
    "cm_std = np.std(confusion_matrix, axis=0)\n",
    "labels = np.array([f'{100*mean:.1f} ±\\n{100*std:.1f}' for mean, std in zip(cm_mean.flatten(), cm_std.flatten())]).reshape(cm_mean.shape); np.fill_diagonal(labels, '')\n",
    "\n",
    "fig, axs = plt.subplots(figsize=(7, 7))\n",
    "axs.set_xlabel('Predictions', font='serif', size=12); axs.set_ylabel('Labels', font='serif', size=12)\n",
    "im, cbar = heatmap(100*cm_mean, np.arange(10), np.arange(10), cbarlabel='Test Errors (%)', ax=axs, cmap='Blues')\n",
    "texts = annotate_heatmap(im, labels=labels)\n",
    "fig.tight_layout()\n",
    "plt.show()"
   ]
  },
  {
   "cell_type": "markdown",
   "metadata": {},
   "source": [
    "### Question 4"
   ]
  },
  {
   "cell_type": "code",
   "execution_count": 15,
   "metadata": {},
   "outputs": [],
   "source": [
    "def hardest_samples(kernel, ys, coefs, n=5):\n",
    "\n",
    "    errors = np.zeros_like(ys)\n",
    "    for i, y in enumerate(ys):\n",
    "        predictions = predict(coefs, kernel[i])\n",
    "        errors[i] = predictions[int(y)]\n",
    "    hardest_samples = np.argpartition(errors, n)[:n]\n",
    "    \n",
    "    return hardest_samples"
   ]
  },
  {
   "cell_type": "code",
   "execution_count": 16,
   "metadata": {},
   "outputs": [],
   "source": [
    "def plot(img, label, fn=None, show=False):\n",
    "    \n",
    "    fig, axs = plt.subplots(figsize=(4, 4))\n",
    "    img = img.reshape(16, 16)\n",
    "    axs.imshow(img, cmap='viridis', interpolation='none')\n",
    "    axs.set_title(f'Label = {label}', fontdict={'font': 'serif', 'size': 16})\n",
    "    axs.get_xaxis().set_visible(False); axs.get_yaxis().set_visible(False)\n",
    "    fig.tight_layout()\n",
    "    if fn is not None:\n",
    "        fig.savefig(fn)\n",
    "    if show:\n",
    "        plt.show()\n",
    "    else:\n",
    "        plt.close(fig)"
   ]
  },
  {
   "cell_type": "code",
   "execution_count": 17,
   "metadata": {},
   "outputs": [],
   "source": [
    "d = np.round(np.mean(results['hparam_star']))\n",
    "full_kernel_d = full_kernel.kernel(d)\n",
    "\n",
    "train_indices, test_indices = train_test_split(np.arange(X.shape[0]), train_size=0.8, shuffle=True)\n",
    "train_kernel, test_kernel = full_kernel_d[np.ix_(train_indices, train_indices)], full_kernel_d[np.ix_(test_indices, train_indices)]\n",
    "train_y, test_y = Y[train_indices], Y[test_indices]\n",
    "\n",
    "coefs = init_coefs(n_classifiers, train_indices.size)\n",
    "coefs, train_mistakes = train(train_kernel, train_y, coefs, n_epochs=n_epochs)\n",
    "indices = hardest_samples(test_kernel, test_y, coefs, n=5)\n",
    "hardest_test_samples = test_indices[indices]"
   ]
  },
  {
   "cell_type": "code",
   "execution_count": 18,
   "metadata": {},
   "outputs": [
    {
     "data": {
      "image/png": "[encoded data removed]",
      "text/plain": [
       "<Figure size 400x400 with 1 Axes>"
      ]
     },
     "metadata": {},
     "output_type": "display_data"
    }
   ],
   "source": [
    "display = 1\n",
    "\n",
    "dirpath = Path('assets')\n",
    "if dirpath.exists() and dirpath.is_dir():\n",
    "    shutil.rmtree(dirpath)\n",
    "dirpath.mkdir(parents=True, exist_ok=True)\n",
    "\n",
    "for index in hardest_test_samples:\n",
    "    img, label = X[index], int(Y[index])\n",
    "    plot(img, label, fn=f'{dirpath}/sample-{index}_label-{label}.png', show=False)\n",
    "\n",
    "index = hardest_test_samples[display-1]\n",
    "img, label = X[index], int(Y[index])\n",
    "plot(img, label, fn=None, show=True)"
   ]
  },
  {
   "cell_type": "markdown",
   "metadata": {},
   "source": [
    "### Question 5"
   ]
  },
  {
   "cell_type": "code",
   "execution_count": 19,
   "metadata": {},
   "outputs": [],
   "source": [
    "class GaussianKernel(BaseKernel):\n",
    "\n",
    "    def __init__(self, X1, X2=None):\n",
    "        super().__init__(X1, X2)\n",
    "\n",
    "    def base_kernel(self, a, b):\n",
    "        squared_distances = np.sum(np.square(a), axis=1, keepdims=True) + \\\n",
    "            np.sum(np.square(b).T, axis=0, keepdims=True) - \\\n",
    "            2 * a @ b.T\n",
    "        return squared_distances\n",
    "    \n",
    "    def kernel(self, hparam, row_indices=None, col_indices=None):\n",
    "        indices = self.indices(row_indices, col_indices)\n",
    "        kernel_matrix = np.exp(-hparam * self.base_kernel_matrix[indices])\n",
    "        return kernel_matrix\n",
    "    \n",
    "full_kernel = GaussianKernel(X)"
   ]
  },
  {
   "cell_type": "code",
   "execution_count": 20,
   "metadata": {},
   "outputs": [
    {
     "data": {
      "application/vnd.jupyter.widget-view+json": {
       "model_id": "e4e1e2fb076a44beb98e187caf0f021a",
       "version_major": 2,
       "version_minor": 0
      },
      "text/plain": [
       "  0%|          | 0/7 [00:00<?, ?it/s]"
      ]
     },
     "metadata": {},
     "output_type": "display_data"
    },
    {
     "data": {
      "text/html": [
       "<div>\n",
       "<style scoped>\n",
       "    .dataframe tbody tr th:only-of-type {\n",
       "        vertical-align: middle;\n",
       "    }\n",
       "\n",
       "    .dataframe tbody tr th {\n",
       "        vertical-align: top;\n",
       "    }\n",
       "\n",
       "    .dataframe thead th {\n",
       "        text-align: right;\n",
       "    }\n",
       "</style>\n",
       "<table border=\"1\" class=\"dataframe\">\n",
       "  <thead>\n",
       "    <tr style=\"text-align: right;\">\n",
       "      <th></th>\n",
       "      <th>Train error (%)</th>\n",
       "      <th>Test error (%)</th>\n",
       "    </tr>\n",
       "    <tr>\n",
       "      <th>Width</th>\n",
       "      <th></th>\n",
       "      <th></th>\n",
       "    </tr>\n",
       "  </thead>\n",
       "  <tbody>\n",
       "    <tr>\n",
       "      <th>0.010</th>\n",
       "      <td>0.322 ± 0.051</td>\n",
       "      <td>3.083 ± 0.405</td>\n",
       "    </tr>\n",
       "    <tr>\n",
       "      <th>0.015</th>\n",
       "      <td>0.182 ± 0.055</td>\n",
       "      <td>2.777 ± 0.294</td>\n",
       "    </tr>\n",
       "    <tr>\n",
       "      <th>0.020</th>\n",
       "      <td>0.155 ± 0.026</td>\n",
       "      <td>2.761 ± 0.343</td>\n",
       "    </tr>\n",
       "    <tr>\n",
       "      <th>0.025</th>\n",
       "      <td>0.149 ± 0.044</td>\n",
       "      <td>2.847 ± 0.421</td>\n",
       "    </tr>\n",
       "    <tr>\n",
       "      <th>0.030</th>\n",
       "      <td>0.149 ± 0.046</td>\n",
       "      <td>2.952 ± 0.352</td>\n",
       "    </tr>\n",
       "    <tr>\n",
       "      <th>0.035</th>\n",
       "      <td>0.172 ± 0.040</td>\n",
       "      <td>3.169 ± 0.259</td>\n",
       "    </tr>\n",
       "    <tr>\n",
       "      <th>0.040</th>\n",
       "      <td>0.192 ± 0.052</td>\n",
       "      <td>3.427 ± 0.443</td>\n",
       "    </tr>\n",
       "  </tbody>\n",
       "</table>\n",
       "</div>"
      ],
      "text/plain": [
       "      Train error (%) Test error (%)\n",
       "Width                               \n",
       "0.010   0.322 ± 0.051  3.083 ± 0.405\n",
       "0.015   0.182 ± 0.055  2.777 ± 0.294\n",
       "0.020   0.155 ± 0.026  2.761 ± 0.343\n",
       "0.025   0.149 ± 0.044  2.847 ± 0.421\n",
       "0.030   0.149 ± 0.046  2.952 ± 0.352\n",
       "0.035   0.172 ± 0.040  3.169 ± 0.259\n",
       "0.040   0.192 ± 0.052  3.427 ± 0.443"
      ]
     },
     "execution_count": 20,
     "metadata": {},
     "output_type": "execute_result"
    }
   ],
   "source": [
    "cs = np.round(np.linspace(0.01, 0.04, num=7, endpoint=True), 3)\n",
    "error_rates = question_1(n_runs=n_runs, hparams=cs, n_epochs=n_epochs)\n",
    "\n",
    "df = pd.DataFrame(data=zip(*error_rates.values()), index=cs, columns=('Train error (%)', 'Test error (%)'))\n",
    "df.index = df.index.rename('Width')\n",
    "df"
   ]
  },
  {
   "cell_type": "code",
   "execution_count": 21,
   "metadata": {},
   "outputs": [
    {
     "data": {
      "application/vnd.jupyter.widget-view+json": {
       "model_id": "0f7bd1e0efba4a2f9e63fe464a9fa273",
       "version_major": 2,
       "version_minor": 0
      },
      "text/plain": [
       "  0%|          | 0/20 [00:00<?, ?it/s]"
      ]
     },
     "metadata": {},
     "output_type": "display_data"
    },
    {
     "name": "stdout",
     "output_type": "stream",
     "text": [
      "c* = 0.021 ± 0.004\n",
      "Test error (%) = 2.806 ± 0.503\n"
     ]
    }
   ],
   "source": [
    "results, _ = question_2(n_runs=n_runs, n_splits=n_splits, hparams=cs, n_epochs=n_epochs, return_cm=False)\n",
    "\n",
    "print(f\"c* = {np.mean(results['hparam_star']):.3f} ± {np.std(results['hparam_star']):.3f}\")\n",
    "print(f\"Test error (%) = {100*np.mean(results['test_error']):.3f} ± {100*np.std(results['test_error']):.3f}\")"
   ]
  },
  {
   "cell_type": "markdown",
   "metadata": {},
   "source": [
    "### Question 6"
   ]
  },
  {
   "cell_type": "code",
   "execution_count": 22,
   "metadata": {},
   "outputs": [],
   "source": [
    "class_combinations = np.array(list(combinations(range(n_classes), 2)))\n",
    "n_classifiers = class_combinations.shape[0]\n",
    "\n",
    "classifier_mapping = [[] for _ in range(n_classes)]\n",
    "for k, (class_a, class_b) in enumerate(class_combinations):\n",
    "    classifier_mapping[class_a].append(k); classifier_mapping[class_b].append(k)"
   ]
  },
  {
   "cell_type": "code",
   "execution_count": 23,
   "metadata": {},
   "outputs": [],
   "source": [
    "def train(train_kernel, train_y, coefs, n_epochs=1):\n",
    "\n",
    "    mistakes = [0 for _ in range(n_epochs)]\n",
    "    for epoch in range(n_epochs):\n",
    "        for i in range(train_y.size):\n",
    "            features, y = train_kernel[i], train_y[i]\n",
    "            predictions = predict(coefs, features)\n",
    "            votes = class_combinations[np.arange(n_classifiers), (predictions>0.).astype(int)]\n",
    "            vote_counts = np.bincount(votes); hard_mx = np.argmax(vote_counts)\n",
    "            if hard_mx != y:\n",
    "                mistakes[epoch] += 1\n",
    "            classifiers = classifier_mapping[int(y)]\n",
    "            predictions = predictions[classifiers]\n",
    "            labels = np.full(len(classifiers), -1.); labels[:int(y)] = 1.\n",
    "            updates = np.where(labels*predictions <= 0., sign(predictions), 0.)\n",
    "            coefs[classifiers, i] -= updates\n",
    "\n",
    "    return coefs, mistakes\n",
    "\n",
    "def test(test_kernel, test_y, coefs, return_cm=False):\n",
    "\n",
    "    mistakes = 0\n",
    "    if return_cm:\n",
    "        confusion_matrix = np.zeros((n_classes, n_classes))\n",
    "    for i in range(test_y.size):\n",
    "        features, y = test_kernel[i], test_y[i]\n",
    "        predictions = predict(coefs, features)\n",
    "        votes = class_combinations[np.arange(n_classifiers), (predictions>0.).astype(int)]\n",
    "        vote_counts = np.bincount(votes); hard_mx = np.argmax(vote_counts)\n",
    "        if hard_mx != y:\n",
    "            mistakes += 1\n",
    "        if return_cm:\n",
    "            confusion_matrix[int(y), hard_mx] += 1\n",
    "\n",
    "    return mistakes, (confusion_matrix if return_cm else None)\n"
   ]
  },
  {
   "cell_type": "code",
   "execution_count": 24,
   "metadata": {},
   "outputs": [],
   "source": [
    "full_kernel = PolynomialKernel(X)"
   ]
  },
  {
   "cell_type": "code",
   "execution_count": 25,
   "metadata": {},
   "outputs": [
    {
     "data": {
      "application/vnd.jupyter.widget-view+json": {
       "model_id": "0d758b4f319641a7847e5c7ecec82392",
       "version_major": 2,
       "version_minor": 0
      },
      "text/plain": [
       "  0%|          | 0/7 [00:00<?, ?it/s]"
      ]
     },
     "metadata": {},
     "output_type": "display_data"
    },
    {
     "data": {
      "text/html": [
       "<div>\n",
       "<style scoped>\n",
       "    .dataframe tbody tr th:only-of-type {\n",
       "        vertical-align: middle;\n",
       "    }\n",
       "\n",
       "    .dataframe tbody tr th {\n",
       "        vertical-align: top;\n",
       "    }\n",
       "\n",
       "    .dataframe thead th {\n",
       "        text-align: right;\n",
       "    }\n",
       "</style>\n",
       "<table border=\"1\" class=\"dataframe\">\n",
       "  <thead>\n",
       "    <tr style=\"text-align: right;\">\n",
       "      <th></th>\n",
       "      <th>Train error (%)</th>\n",
       "      <th>Test error (%)</th>\n",
       "    </tr>\n",
       "    <tr>\n",
       "      <th>Degree</th>\n",
       "      <th></th>\n",
       "      <th></th>\n",
       "    </tr>\n",
       "  </thead>\n",
       "  <tbody>\n",
       "    <tr>\n",
       "      <th>1</th>\n",
       "      <td>6.295 ± 0.262</td>\n",
       "      <td>7.766 ± 1.253</td>\n",
       "    </tr>\n",
       "    <tr>\n",
       "      <th>2</th>\n",
       "      <td>2.329 ± 0.225</td>\n",
       "      <td>4.551 ± 0.675</td>\n",
       "    </tr>\n",
       "    <tr>\n",
       "      <th>3</th>\n",
       "      <td>1.394 ± 0.157</td>\n",
       "      <td>3.685 ± 0.292</td>\n",
       "    </tr>\n",
       "    <tr>\n",
       "      <th>4</th>\n",
       "      <td>1.061 ± 0.113</td>\n",
       "      <td>3.728 ± 0.387</td>\n",
       "    </tr>\n",
       "    <tr>\n",
       "      <th>5</th>\n",
       "      <td>0.894 ± 0.125</td>\n",
       "      <td>3.613 ± 0.546</td>\n",
       "    </tr>\n",
       "    <tr>\n",
       "      <th>6</th>\n",
       "      <td>0.799 ± 0.117</td>\n",
       "      <td>3.503 ± 0.312</td>\n",
       "    </tr>\n",
       "    <tr>\n",
       "      <th>7</th>\n",
       "      <td>0.671 ± 0.117</td>\n",
       "      <td>3.651 ± 0.409</td>\n",
       "    </tr>\n",
       "  </tbody>\n",
       "</table>\n",
       "</div>"
      ],
      "text/plain": [
       "       Train error (%) Test error (%)\n",
       "Degree                               \n",
       "1        6.295 ± 0.262  7.766 ± 1.253\n",
       "2        2.329 ± 0.225  4.551 ± 0.675\n",
       "3        1.394 ± 0.157  3.685 ± 0.292\n",
       "4        1.061 ± 0.113  3.728 ± 0.387\n",
       "5        0.894 ± 0.125  3.613 ± 0.546\n",
       "6        0.799 ± 0.117  3.503 ± 0.312\n",
       "7        0.671 ± 0.117  3.651 ± 0.409"
      ]
     },
     "execution_count": 25,
     "metadata": {},
     "output_type": "execute_result"
    }
   ],
   "source": [
    "error_rates = question_1(n_runs=n_runs, hparams=ds, n_epochs=n_epochs)\n",
    "\n",
    "df = pd.DataFrame(data=zip(*error_rates.values()), index=ds, columns=('Train error (%)', 'Test error (%)'))\n",
    "df.index = df.index.rename('Degree')\n",
    "df"
   ]
  },
  {
   "cell_type": "code",
   "execution_count": 26,
   "metadata": {},
   "outputs": [
    {
     "data": {
      "application/vnd.jupyter.widget-view+json": {
       "model_id": "e2cb1324eed346ee900570b13081cf51",
       "version_major": 2,
       "version_minor": 0
      },
      "text/plain": [
       "  0%|          | 0/20 [00:00<?, ?it/s]"
      ]
     },
     "metadata": {},
     "output_type": "display_data"
    },
    {
     "name": "stdout",
     "output_type": "stream",
     "text": [
      "d* = 5.050 ± 1.203\n",
      "Test error (%) = 3.492 ± 0.289\n"
     ]
    }
   ],
   "source": [
    "results, _ = question_2(n_runs=n_runs, n_splits=n_splits, hparams=ds, n_epochs=n_epochs, return_cm=False)\n",
    "\n",
    "print(f\"d* = {np.mean(results['hparam_star']):.3f} ± {np.std(results['hparam_star']):.3f}\")\n",
    "print(f\"Test error (%) = {100*np.mean(results['test_error']):.3f} ± {100*np.std(results['test_error']):.3f}\")"
   ]
  },
  {
   "cell_type": "code",
   "execution_count": 27,
   "metadata": {},
   "outputs": [],
   "source": [
    "full_kernel = GaussianKernel(X)"
   ]
  },
  {
   "cell_type": "code",
   "execution_count": 28,
   "metadata": {},
   "outputs": [
    {
     "data": {
      "application/vnd.jupyter.widget-view+json": {
       "model_id": "872f6a80b1414a87b3d2dfb72a9c3fd1",
       "version_major": 2,
       "version_minor": 0
      },
      "text/plain": [
       "  0%|          | 0/7 [00:00<?, ?it/s]"
      ]
     },
     "metadata": {},
     "output_type": "display_data"
    },
    {
     "data": {
      "text/html": [
       "<div>\n",
       "<style scoped>\n",
       "    .dataframe tbody tr th:only-of-type {\n",
       "        vertical-align: middle;\n",
       "    }\n",
       "\n",
       "    .dataframe tbody tr th {\n",
       "        vertical-align: top;\n",
       "    }\n",
       "\n",
       "    .dataframe thead th {\n",
       "        text-align: right;\n",
       "    }\n",
       "</style>\n",
       "<table border=\"1\" class=\"dataframe\">\n",
       "  <thead>\n",
       "    <tr style=\"text-align: right;\">\n",
       "      <th></th>\n",
       "      <th>Train error (%)</th>\n",
       "      <th>Test error (%)</th>\n",
       "    </tr>\n",
       "    <tr>\n",
       "      <th>Width</th>\n",
       "      <th></th>\n",
       "      <th></th>\n",
       "    </tr>\n",
       "  </thead>\n",
       "  <tbody>\n",
       "    <tr>\n",
       "      <th>0.010</th>\n",
       "      <td>1.146 ± 0.119</td>\n",
       "      <td>4.121 ± 1.714</td>\n",
       "    </tr>\n",
       "    <tr>\n",
       "      <th>0.015</th>\n",
       "      <td>0.826 ± 0.106</td>\n",
       "      <td>3.194 ± 0.445</td>\n",
       "    </tr>\n",
       "    <tr>\n",
       "      <th>0.020</th>\n",
       "      <td>0.666 ± 0.100</td>\n",
       "      <td>3.594 ± 0.500</td>\n",
       "    </tr>\n",
       "    <tr>\n",
       "      <th>0.025</th>\n",
       "      <td>0.633 ± 0.139</td>\n",
       "      <td>3.288 ± 0.320</td>\n",
       "    </tr>\n",
       "    <tr>\n",
       "      <th>0.030</th>\n",
       "      <td>0.545 ± 0.097</td>\n",
       "      <td>3.728 ± 0.499</td>\n",
       "    </tr>\n",
       "    <tr>\n",
       "      <th>0.035</th>\n",
       "      <td>0.500 ± 0.101</td>\n",
       "      <td>3.855 ± 0.351</td>\n",
       "    </tr>\n",
       "    <tr>\n",
       "      <th>0.040</th>\n",
       "      <td>0.506 ± 0.072</td>\n",
       "      <td>4.051 ± 0.492</td>\n",
       "    </tr>\n",
       "  </tbody>\n",
       "</table>\n",
       "</div>"
      ],
      "text/plain": [
       "      Train error (%) Test error (%)\n",
       "Width                               \n",
       "0.010   1.146 ± 0.119  4.121 ± 1.714\n",
       "0.015   0.826 ± 0.106  3.194 ± 0.445\n",
       "0.020   0.666 ± 0.100  3.594 ± 0.500\n",
       "0.025   0.633 ± 0.139  3.288 ± 0.320\n",
       "0.030   0.545 ± 0.097  3.728 ± 0.499\n",
       "0.035   0.500 ± 0.101  3.855 ± 0.351\n",
       "0.040   0.506 ± 0.072  4.051 ± 0.492"
      ]
     },
     "execution_count": 28,
     "metadata": {},
     "output_type": "execute_result"
    }
   ],
   "source": [
    "error_rates = question_1(n_runs=n_runs, hparams=cs, n_epochs=n_epochs)\n",
    "\n",
    "df = pd.DataFrame(data=zip(*error_rates.values()), index=cs, columns=('Train error (%)', 'Test error (%)'))\n",
    "df.index = df.index.rename('Width')\n",
    "df"
   ]
  },
  {
   "cell_type": "code",
   "execution_count": 29,
   "metadata": {},
   "outputs": [
    {
     "data": {
      "application/vnd.jupyter.widget-view+json": {
       "model_id": "a7f26e3a92574b02826087dd35f6a0dd",
       "version_major": 2,
       "version_minor": 0
      },
      "text/plain": [
       "  0%|          | 0/20 [00:00<?, ?it/s]"
      ]
     },
     "metadata": {},
     "output_type": "display_data"
    },
    {
     "name": "stdout",
     "output_type": "stream",
     "text": [
      "d* = 0.017 ± 0.004\n",
      "Test error (%) = 3.425 ± 0.540\n"
     ]
    }
   ],
   "source": [
    "results, _ = question_2(n_runs=n_runs, n_splits=n_splits, hparams=cs, n_epochs=n_epochs, return_cm=False)\n",
    "\n",
    "print(f\"d* = {np.mean(results['hparam_star']):.3f} ± {np.std(results['hparam_star']):.3f}\")\n",
    "print(f\"Test error (%) = {100*np.mean(results['test_error']):.3f} ± {100*np.std(results['test_error']):.3f}\")"
   ]
  }
 ],
 "metadata": {
  "kernelspec": {
   "display_name": "base",
   "language": "python",
   "name": "python3"
  },
  "language_info": {
   "codemirror_mode": {
    "name": "ipython",
    "version": 3
   },
   "file_extension": ".py",
   "mimetype": "text/x-python",
   "name": "python",
   "nbconvert_exporter": "python",
   "pygments_lexer": "ipython3",
   "version": "3.8.8"
  }
 },
 "nbformat": 4,
 "nbformat_minor": 2
}
