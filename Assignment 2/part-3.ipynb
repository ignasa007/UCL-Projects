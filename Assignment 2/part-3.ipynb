{
 "cells": [
  {
   "cell_type": "code",
   "execution_count": null,
   "metadata": {},
   "outputs": [],
   "source": [
    "from pathlib import Path\n",
    "import shutil\n",
    "from tqdm.notebook import tqdm\n",
    "\n",
    "import numpy as np\n",
    "import pandas as pd\n",
    "from sklearn.model_selection import train_test_split, KFold\n",
    "import matplotlib.pyplot as plt\n",
    "\n",
    "from plots import heatmap, annotate_heatmap\n",
    "\n",
    "%matplotlib inline"
   ]
  },
  {
   "cell_type": "code",
   "execution_count": null,
   "metadata": {},
   "outputs": [],
   "source": [
    "def import_data(fn):\n",
    "    data = np.loadtxt(fn)\n",
    "    inputs, labels = data[:, 1:], data[:, 0]\n",
    "    return inputs, labels\n",
    "\n",
    "X, Y = import_data('zipcombo.dat')\n",
    "n_classes = 10"
   ]
  },
  {
   "cell_type": "code",
   "execution_count": null,
   "metadata": {},
   "outputs": [],
   "source": [
    "class BaseKernel:\n",
    "\n",
    "    def __init__(self, X1, X2=None):\n",
    "        self.base_kernel_matrix = self.base_kernel(X1, X2 if X2 is not None else X1)\n",
    "\n",
    "    def base_kernel(self, a, b):\n",
    "        raise NotImplementedError\n",
    "    \n",
    "    def indices(self, row_indices, col_indices):\n",
    "        if row_indices is None:\n",
    "            row_indices = np.arange(self.base_kernel_matrix.shape[0])\n",
    "        if col_indices is None:\n",
    "            col_indices = np.arange(self.base_kernel_matrix.shape[1])\n",
    "        return row_indices, col_indices\n",
    "    \n",
    "    def kernel(self, hparam, row_indices=None, col_indices=None):\n",
    "        raise NotImplementedError"
   ]
  },
  {
   "cell_type": "code",
   "execution_count": null,
   "metadata": {},
   "outputs": [],
   "source": [
    "class PolynomialKernel(BaseKernel):\n",
    "\n",
    "    def __init__(self, X1, X2=None):\n",
    "        super().__init__(X1, X2)\n",
    "\n",
    "    def base_kernel(self, a, b):\n",
    "        dot_products = np.dot(a, b.T)\n",
    "        return dot_products\n",
    "    \n",
    "    def kernel(self, hparam, row_indices=None, col_indices=None):\n",
    "        row_indices, col_indices = self.indices(row_indices, col_indices)\n",
    "        kernel_matrix = np.power(self.base_kernel_matrix[np.ix_(row_indices, col_indices)], hparam)\n",
    "        return kernel_matrix\n",
    "    \n",
    "full_kernel = PolynomialKernel(X)"
   ]
  },
  {
   "cell_type": "code",
   "execution_count": null,
   "metadata": {},
   "outputs": [],
   "source": [
    "def init_coefs(n_classes, train_size):\n",
    "    coefs = np.zeros((n_classes, train_size))\n",
    "    return coefs\n",
    "    \n",
    "def predict(coefs, kernel_values):\n",
    "    predictions = coefs.dot(kernel_values)\n",
    "    return predictions\n",
    "\n",
    "def sign(x):\n",
    "    return np.where(x <= 0., -1., 1.)"
   ]
  },
  {
   "cell_type": "code",
   "execution_count": null,
   "metadata": {},
   "outputs": [],
   "source": [
    "def train(train_kernel, train_y, coefs, n_epochs=1):\n",
    "    \n",
    "    mistakes = [0 for _ in range(n_epochs)]\n",
    "    for epoch in range(n_epochs):\n",
    "        for i, y in enumerate(train_y):\n",
    "            labels = np.full(coefs.shape[0], -1.); labels[int(y)] = 1.\n",
    "            predictions = predict(coefs, train_kernel[i])\n",
    "            updates = np.where(labels*predictions <= 0., sign(predictions), 0.)\n",
    "            coefs[:, i] -= updates\n",
    "            if np.argmax(predictions) != y:\n",
    "                mistakes[epoch] += 1\n",
    "    return coefs, mistakes\n",
    "\n",
    "def test(test_kernel, test_y, coefs, return_cm=False):\n",
    "\n",
    "    mistakes = 0\n",
    "    if return_cm:\n",
    "        confusion_matrix = np.zeros((10, 10))\n",
    "    for i, y in enumerate(test_y):\n",
    "        prediction = np.argmax(predict(coefs, test_kernel[i]))\n",
    "        if prediction != y:\n",
    "            mistakes += 1\n",
    "        if return_cm:\n",
    "            confusion_matrix[int(y), prediction] += 1\n",
    "\n",
    "    return (mistakes, confusion_matrix) if return_cm else mistakes"
   ]
  },
  {
   "cell_type": "markdown",
   "metadata": {},
   "source": [
    "### Demo"
   ]
  },
  {
   "cell_type": "code",
   "execution_count": null,
   "metadata": {},
   "outputs": [],
   "source": [
    "def execute_run(train_x, train_y, test_x, test_y, d=3, n_classes=3, n_epochs=3):\n",
    "\n",
    "    train_kernel = PolynomialKernel(train_x).kernel(d)\n",
    "    test_kernel = PolynomialKernel(test_x, train_x).kernel(d)\n",
    "    coefs = init_coefs(n_classes, train_x.shape[0])\n",
    "    for i in range(1, n_epochs+1):\n",
    "        coefs, train_mistakes = train(train_kernel, train_y, coefs, n_epochs=1)\n",
    "        test_mistakes = test(test_kernel, test_y, coefs, return_cm=False)\n",
    "        print(f'Epoch {i} - {train_mistakes[-1]} mistakes out of {train_x.shape[0]} items on training set, test error is {test_mistakes/test_x.shape[0]*100:.3f}%.')\n",
    "    \n",
    "    return coefs, train_mistakes[0], test_mistakes"
   ]
  },
  {
   "cell_type": "code",
   "execution_count": null,
   "metadata": {},
   "outputs": [],
   "source": [
    "train_x, train_y = import_data('dtrain123.dat')\n",
    "test_x, test_y = import_data('dtest123.dat')\n",
    "\n",
    "coefs, *_ = execute_run(train_x, train_y-1, test_x, test_y-1, d=3, n_classes=3, n_epochs=3)"
   ]
  },
  {
   "cell_type": "markdown",
   "metadata": {},
   "source": [
    "### Question 1"
   ]
  },
  {
   "cell_type": "code",
   "execution_count": null,
   "metadata": {},
   "outputs": [],
   "source": [
    "def question_1(n_runs, hparams, n_epochs):\n",
    "\n",
    "    error_rates = {'train': np.zeros((n_runs, len(hparams))), 'test': np.zeros((n_runs, len(hparams)))}\n",
    "\n",
    "    for i in tqdm(range(len(hparams))):\n",
    "\n",
    "        hparam = hparams[i]\n",
    "        full_kernel_d = full_kernel.kernel(hparam)\n",
    "\n",
    "        for run in range(n_runs):\n",
    "\n",
    "            train_indices, test_indices = train_test_split(np.arange(X.shape[0]), train_size=0.8, shuffle=True)\n",
    "            train_kernel, test_kernel = full_kernel_d[np.ix_(train_indices, train_indices)], full_kernel_d[np.ix_(test_indices, train_indices)]\n",
    "            train_y, test_y = Y[train_indices], Y[test_indices]\n",
    "\n",
    "            coefs = init_coefs(n_classes=10, train_size=train_indices.size)\n",
    "            coefs, train_mistakes = train(train_kernel, train_y, coefs, n_epochs=n_epochs)\n",
    "            test_mistakes = test(test_kernel, test_y, coefs, return_cm=False)\n",
    "            \n",
    "            error_rates['train'][run, i] = train_mistakes[-1]/train_y.size\n",
    "            error_rates['test'][run, i] = test_mistakes/test_y.size\n",
    "\n",
    "    error_rates['train'] = [f'{100*m:.3f} ± {100*s:.3f}' for m, s in zip(np.mean(error_rates['train'], axis=0), np.std(error_rates['train'], axis=0))]\n",
    "    error_rates['test']  = [f'{100*m:.3f} ± {100*s:.3f}' for m, s in zip(np.mean(error_rates['test'], axis=0),  np.std(error_rates['test'], axis=0))]\n",
    "\n",
    "    return error_rates"
   ]
  },
  {
   "cell_type": "code",
   "execution_count": null,
   "metadata": {},
   "outputs": [],
   "source": [
    "n_runs, n_epochs = 20, 3\n",
    "ds = range(1, 8)\n",
    "\n",
    "error_rates = question_1(n_runs=n_runs, hparams=ds, n_epochs=n_epochs)\n",
    "df = pd.DataFrame(data={'Train error (%)': error_rates['train'], 'Test error (%)': error_rates['test']}, index=ds)\n",
    "\n",
    "df"
   ]
  },
  {
   "cell_type": "markdown",
   "metadata": {},
   "source": [
    "### Questions 2 and 3"
   ]
  },
  {
   "cell_type": "code",
   "execution_count": null,
   "metadata": {},
   "outputs": [],
   "source": [
    "def question_2(n_runs, n_splits, hparams, n_epochs, return_cm=True):\n",
    "\n",
    "    kfold = KFold(n_splits=n_splits, shuffle=True)\n",
    "\n",
    "    confusion_matrix = [None for _ in range(n_runs)]\n",
    "    results = {'hparam_star': np.zeros((n_runs,)), 'test_error': np.zeros((n_runs,))}\n",
    "\n",
    "    for run in tqdm(range(n_runs)):\n",
    "        \n",
    "        train_indices, test_indices = train_test_split(np.arange(X.shape[0]), train_size=0.8, shuffle=True)\n",
    "        \n",
    "        val_errors = np.zeros((len(hparams), kfold.get_n_splits()))\n",
    "        for i, hparam in enumerate(hparams):\n",
    "            full_kernel_d = full_kernel.kernel(hparam)\n",
    "            for fold, (train_fold, val_fold) in enumerate(kfold.split(train_indices)):\n",
    "                train_kernel, val_kernel = full_kernel_d[np.ix_(train_fold, train_fold)], full_kernel_d[np.ix_(val_fold, train_fold)]\n",
    "                train_y, val_y = Y[train_fold], Y[val_fold]\n",
    "                coefs = init_coefs(n_classes, train_fold.size)\n",
    "                coefs, _ = train(train_kernel, train_y, coefs, n_epochs=n_epochs)\n",
    "                val_mistakes = test(val_kernel, val_y, coefs, return_cm=False)\n",
    "                val_errors[i, fold] = val_mistakes/val_y.size\n",
    "        val_errors = val_errors.mean(axis=1)\n",
    "        hparam_star = hparams[np.argmin(val_errors)]; results['hparam_star'][run] = hparam_star\n",
    "\n",
    "        full_kernel_d = full_kernel.kernel(hparam_star)\n",
    "        train_kernel, test_kernel = full_kernel_d[np.ix_(train_indices, train_indices)], full_kernel_d[np.ix_(test_indices, train_indices)]\n",
    "        train_y, test_y = Y[train_indices], Y[test_indices]\n",
    "        coefs = init_coefs(n_classes=n_classes, train_size=train_indices.size)\n",
    "        coefs, _ = train(train_kernel, train_y, coefs, n_epochs=n_epochs)\n",
    "        test_mistakes, confusion_matrix[run] = test(test_kernel, test_y, coefs, return_cm=return_cm)\n",
    "        results['test_error'][run] = test_mistakes/test_y.size\n",
    "\n",
    "    return (results, np.stack(confusion_matrix)) if return_cm else results"
   ]
  },
  {
   "cell_type": "code",
   "execution_count": null,
   "metadata": {},
   "outputs": [],
   "source": [
    "n_splits = 5\n",
    "results, confusion_matrix = question_2(n_runs=n_runs, n_splits=n_splits, hparams=ds, n_epochs=n_epochs, return_cm=True)"
   ]
  },
  {
   "cell_type": "code",
   "execution_count": null,
   "metadata": {},
   "outputs": [],
   "source": [
    "print(f\"d* = {np.mean(results['hparam_star']):.3f} ± {np.std(results['hparam_star']):.3f}\")\n",
    "print(f\"Test error (%) = {100*np.mean(results['test_error']):.3f} ± {100*np.std(results['test_error']):.3f}\")\n",
    "\n",
    "confusion_matrix = confusion_matrix / confusion_matrix.sum(axis=2, keepdims=True)\n",
    "cm_mean = np.mean(confusion_matrix, axis=0)\n",
    "cm_std = np.std(confusion_matrix, axis=0)\n",
    "labels = np.array([f'{100*mean:.1f} ±\\n{100*std:.1f}' for mean, std in zip(cm_mean.flatten(), cm_std.flatten())]).reshape(cm_mean.shape)\n",
    "\n",
    "cm_mean = np.fill_diagonal(cm_mean, 0.)\n",
    "labels = np.fill_diagonal(labels, '')\n",
    "\n",
    "# plot the log of the values?\n",
    "fig, axs = plt.subplots(figsize=(8, 8))\n",
    "im, cbar = heatmap(100*cm_mean, np.arange(10), np.arange(10), ax=axs, cmap='Blues')\n",
    "texts = annotate_heatmap(im, labels=labels)\n",
    "fig.tight_layout()\n",
    "plt.show()"
   ]
  },
  {
   "cell_type": "markdown",
   "metadata": {},
   "source": [
    "### Question 4"
   ]
  },
  {
   "cell_type": "code",
   "execution_count": null,
   "metadata": {},
   "outputs": [],
   "source": [
    "def hardest_samples(kernel, ys, coefs, n=5):\n",
    "\n",
    "    errors = np.zeros_like(ys)\n",
    "    for i, y in enumerate(ys):\n",
    "        predictions = predict(coefs, kernel[i])\n",
    "        errors[i] = predictions[int(y)]\n",
    "    hardest_samples = np.argpartition(errors, n)[:n]\n",
    "    \n",
    "    return hardest_samples"
   ]
  },
  {
   "cell_type": "code",
   "execution_count": null,
   "metadata": {},
   "outputs": [],
   "source": [
    "def plot(img, label, fn=None, show=False):\n",
    "    \n",
    "    fig, axs = plt.subplots(figsize=(4, 4))\n",
    "    img = img.reshape(16, 16)\n",
    "    axs.imshow(img, cmap='viridis', interpolation='none')\n",
    "    axs.set_title(f'Label = {label}', fontdict={'font': 'serif', 'size': 16})\n",
    "    axs.get_xaxis().set_visible(False); axs.get_yaxis().set_visible(False)\n",
    "    fig.tight_layout()\n",
    "    if fn is not None:\n",
    "        fig.savefig(fn)\n",
    "    if show:\n",
    "        plt.show()\n",
    "    else:\n",
    "        plt.close(fig)"
   ]
  },
  {
   "cell_type": "code",
   "execution_count": null,
   "metadata": {},
   "outputs": [],
   "source": [
    "d = np.round(np.mean(results['hparam_star']))\n",
    "full_kernel_d = full_kernel.kernel(d)\n",
    "\n",
    "train_indices, test_indices = train_test_split(np.arange(X.shape[0]), train_size=0.8, shuffle=True)\n",
    "train_kernel, test_kernel = full_kernel_d[np.ix_(train_indices, train_indices)], full_kernel_d[np.ix_(test_indices, train_indices)]\n",
    "train_y, test_y = Y[train_indices], Y[test_indices]\n",
    "\n",
    "coefs = init_coefs(n_classes=10, train_size=train_indices.size)\n",
    "coefs, train_mistakes = train(train_kernel, train_y, coefs, n_epochs=3)\n",
    "indices = hardest_samples(test_kernel, test_y, coefs, n=5)\n",
    "hardest_test_samples = test_indices[indices]"
   ]
  },
  {
   "cell_type": "code",
   "execution_count": null,
   "metadata": {},
   "outputs": [],
   "source": [
    "display = 1\n",
    "\n",
    "dirpath = Path('assets')\n",
    "if dirpath.exists() and dirpath.is_dir():\n",
    "    shutil.rmtree(dirpath)\n",
    "dirpath.mkdir(parents=True, exist_ok=True)\n",
    "\n",
    "for index in hardest_test_samples:\n",
    "    img, label = X[index], int(Y[index])\n",
    "    plot(img, label, fn=f'{dirpath}/sample-{index}_label-{label}.png', show=False)\n",
    "\n",
    "index = hardest_test_samples[display-1]\n",
    "img, label = X[index], int(Y[index])\n",
    "plot(img, label, fn=None, show=True)"
   ]
  },
  {
   "cell_type": "markdown",
   "metadata": {},
   "source": [
    "### Question 5"
   ]
  },
  {
   "cell_type": "code",
   "execution_count": null,
   "metadata": {},
   "outputs": [],
   "source": [
    "class GaussianKernel(BaseKernel):\n",
    "\n",
    "    def __init__(self, X1, X2=None):\n",
    "        super().__init__(X1, X2)\n",
    "\n",
    "    def base_kernel(self, a, b):\n",
    "        squared_distances = np.square(np.hstack([\n",
    "            np.linalg.norm(np.expand_dims(a, 1) - np.expand_dims(b[[i], :], 0), axis=2)\n",
    "            for i in tqdm(range(b.shape[0]))\n",
    "        ]))\n",
    "        return squared_distances\n",
    "    \n",
    "    def kernel(self, hparam, row_indices=None, col_indices=None):\n",
    "        row_indices, col_indices = self.matrix_indices(row_indices, col_indices)\n",
    "        kernel_matrix = np.exp(-hparam * self.base_kernel_matrix[np.ix_(row_indices, col_indices)])\n",
    "        return kernel_matrix\n",
    "    \n",
    "full_kernel = GaussianKernel(X)"
   ]
  },
  {
   "cell_type": "code",
   "execution_count": null,
   "metadata": {},
   "outputs": [],
   "source": [
    "cs = np.linspace(0.01, 0.5, 7, endpoint=True)\n",
    "error_rates = question_1(n_runs=n_runs, hparams=ds, n_epochs=n_epochs)"
   ]
  },
  {
   "cell_type": "code",
   "execution_count": null,
   "metadata": {},
   "outputs": [],
   "source": [
    "df = pd.DataFrame(data=error_rates, index=ds)\n",
    "df"
   ]
  },
  {
   "cell_type": "code",
   "execution_count": null,
   "metadata": {},
   "outputs": [],
   "source": [
    "results = question_2(n_runs=n_runs, n_splits=n_splits, hparams=cs, n_epochs=n_epochs, cm=False)"
   ]
  },
  {
   "cell_type": "code",
   "execution_count": null,
   "metadata": {},
   "outputs": [],
   "source": [
    "print(f\"c* = {np.mean(results['hparam_star']):.3f} ± {np.std(results['hparam_star']):.3f}\")\n",
    "print(f\"Test error (%) = {np.mean(results['test_error']):.3f} ± {np.std(results['test_error']):.3f}\")"
   ]
  }
 ],
 "metadata": {
  "kernelspec": {
   "display_name": "base",
   "language": "python",
   "name": "python3"
  },
  "language_info": {
   "codemirror_mode": {
    "name": "ipython",
    "version": 3
   },
   "file_extension": ".py",
   "mimetype": "text/x-python",
   "name": "python",
   "nbconvert_exporter": "python",
   "pygments_lexer": "ipython3",
   "version": "3.8.8"
  }
 },
 "nbformat": 4,
 "nbformat_minor": 2
}
