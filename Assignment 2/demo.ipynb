{
 "cells": [
  {
   "cell_type": "code",
   "execution_count": 2,
   "metadata": {},
   "outputs": [],
   "source": [
    "import time\n",
    "\n",
    "import numpy as np\n",
    "import matplotlib.pyplot as plt"
   ]
  },
  {
   "cell_type": "code",
   "execution_count": 3,
   "metadata": {},
   "outputs": [],
   "source": [
    "def import_data(filename):\n",
    "    return np.loadtxt(filename)\n",
    "\n",
    "def plot_char(char):\n",
    "    rep = char[1:257].reshape((16, 16))\n",
    "    plt.imshow(rep, cmap='viridis', interpolation='none')\n",
    "    plt.title(f'The number {int(char[0])}')\n",
    "    plt.show()"
   ]
  },
  {
   "cell_type": "code",
   "execution_count": 4,
   "metadata": {},
   "outputs": [],
   "source": [
    "def kernal(a, b):\n",
    "    return (np.dot(a, b) ** 3)\n",
    "\n",
    "def my_sign(x):\n",
    "    return -1.0 if x <= 0.0 else 1.0\n",
    "\n",
    "def clear_glb_cls(data):\n",
    "    return np.zeros((3, len(data)))\n",
    "\n",
    "def class_pred_k(dat, pat, cl):\n",
    "    return np.sum([cl[i] * kernal(pat, dat[i, 1:257]) for i in range(len(cl))])"
   ]
  },
  {
   "cell_type": "code",
   "execution_count": 5,
   "metadata": {},
   "outputs": [],
   "source": [
    "def train_gen(dat, glb_cls):\n",
    "    mistakes = 0\n",
    "    for i in range(len(dat)):\n",
    "        val = dat[i, 0]\n",
    "        preds = [class_pred_k(dat, dat[i, 1:257], glb_cls[j]) for j in range(3)]\n",
    "        maxc = -1e16\n",
    "        maxi = -1\n",
    "        for j in range(3):\n",
    "            y = 1.0 if val == j + 1 else -1.0\n",
    "            if y * preds[j] <= 0:\n",
    "                glb_cls[j, i] -= my_sign(preds[j])\n",
    "            if preds[j] > maxc:\n",
    "                maxc = preds[j]\n",
    "                maxi = j + 1\n",
    "        if maxi != val:\n",
    "            mistakes += 1\n",
    "    return mistakes\n",
    "\n",
    "def test_classifiers(dat, test_dat, glb_cls):\n",
    "    mistakes = 0\n",
    "    for i in range(len(test_dat)):\n",
    "        val = test_dat[i, 0]\n",
    "        preds = [class_pred_k(dat, test_dat[i, 1:257], glb_cls[j]) for j in range(3)]\n",
    "        maxc = -1e9\n",
    "        maxi = -1\n",
    "        for j in range(3):\n",
    "            y = 1.0 if val == j + 1 else -1.0\n",
    "            if preds[j] > maxc:\n",
    "                maxc = preds[j]\n",
    "                maxi = j + 1\n",
    "        if maxi != val:\n",
    "            mistakes += 1\n",
    "    return mistakes / len(test_dat)"
   ]
  },
  {
   "cell_type": "code",
   "execution_count": 13,
   "metadata": {},
   "outputs": [],
   "source": [
    "def demo(train, test):\n",
    "    glb_cls = clear_glb_cls(train)\n",
    "    for i in range(3):\n",
    "        start_time = time.time()\n",
    "        train_errors = train_gen(train, glb_cls)\n",
    "        end_time = time.time()\n",
    "        print(f\"Training - epoch {i + 1} required {end_time - start_time:.6f} with {train_errors} mistakes out of {len(train)} items.\")\n",
    "        \n",
    "        start_time = time.time()\n",
    "        test_error = test_classifiers(train, test, glb_cls)\n",
    "        end_time = time.time()\n",
    "        print(f\"Testing - epoch {i + 1} required {end_time - start_time:.6f} with a test error of {test_error * 100:.3f}%.\")\n",
    "    return glb_cls"
   ]
  },
  {
   "cell_type": "code",
   "execution_count": 14,
   "metadata": {},
   "outputs": [
    {
     "name": "stdout",
     "output_type": "stream",
     "text": [
      "Training - epoch 1 required 2.440072 with 15 mistakes out of 329 items.\n",
      "Testing - epoch 1 required 2.700847 with a test error of 3.509%.\n",
      "Training - epoch 2 required 1.964080 with 3 mistakes out of 329 items.\n",
      "Testing - epoch 2 required 2.759072 with a test error of 2.851%.\n",
      "Training - epoch 3 required 2.049710 with 0 mistakes out of 329 items.\n",
      "Testing - epoch 3 required 2.375020 with a test error of 2.632%.\n"
     ]
    }
   ],
   "source": [
    "dtrain123 = import_data(\"dtrain123.dat\")\n",
    "dtest123 = import_data(\"dtest123.dat\")\n",
    "\n",
    "glb_cls = demo(dtrain123, dtest123)"
   ]
  },
  {
   "cell_type": "code",
   "execution_count": 15,
   "metadata": {},
   "outputs": [
    {
     "data": {
      "text/plain": [
       "0"
      ]
     },
     "execution_count": 15,
     "metadata": {},
     "output_type": "execute_result"
    }
   ],
   "source": [
    "np.sum(np.abs(glb_cls) > 1)"
   ]
  },
  {
   "cell_type": "code",
   "execution_count": null,
   "metadata": {},
   "outputs": [],
   "source": []
  }
 ],
 "metadata": {
  "kernelspec": {
   "display_name": "base",
   "language": "python",
   "name": "python3"
  },
  "language_info": {
   "codemirror_mode": {
    "name": "ipython",
    "version": 3
   },
   "file_extension": ".py",
   "mimetype": "text/x-python",
   "name": "python",
   "nbconvert_exporter": "python",
   "pygments_lexer": "ipython3",
   "version": "3.8.8"
  }
 },
 "nbformat": 4,
 "nbformat_minor": 2
}
