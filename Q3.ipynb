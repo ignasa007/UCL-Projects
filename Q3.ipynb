{
 "cells": [
  {
   "cell_type": "markdown",
   "metadata": {},
   "source": [
    "# EM for Binary Data"
   ]
  },
  {
   "cell_type": "code",
   "execution_count": 1,
   "metadata": {},
   "outputs": [],
   "source": [
    "import os\n",
    "from tqdm import tqdm\n",
    "import numpy as np\n",
    "import matplotlib.pyplot as plt\n",
    "\n",
    "np.set_printoptions(precision=6, linewidth=100)"
   ]
  },
  {
   "cell_type": "code",
   "execution_count": 2,
   "metadata": {},
   "outputs": [
    {
     "data": {
      "text/plain": [
       "(100, 64)"
      ]
     },
     "execution_count": 2,
     "metadata": {},
     "output_type": "execute_result"
    }
   ],
   "source": [
    "dataset = np.loadtxt('binarydigits.txt')\n",
    "N, D = dataset.shape\n",
    "\n",
    "N, D"
   ]
  },
  {
   "cell_type": "markdown",
   "metadata": {},
   "source": [
    "We have $N = 100$ images, each with $D = 64$ pixels laid out as a vector, i.e., $\\mathbf{x}^{\\left(n\\right)} \\in \\mathbb{R}^D,\\ \\forall n\\in \\left\\{1,\\ldots,N\\right\\}$. "
   ]
  },
  {
   "cell_type": "markdown",
   "metadata": {},
   "source": [
    "## 3 (d)"
   ]
  },
  {
   "cell_type": "code",
   "execution_count": 3,
   "metadata": {},
   "outputs": [],
   "source": [
    "def smoothing(p, eps=1e-8):\n",
    "\n",
    "    nonzero = np.nonzero(p)\n",
    "    if nonzero[0].size == 0:\n",
    "        return p\n",
    "    p[nonzero] -= eps * p.size/nonzero[0].size\n",
    "    p += eps\n",
    "\n",
    "    return p\n",
    "\n",
    "\n",
    "class EMForMultivariateBernoulli:\n",
    "\n",
    "    def log_likelihood(self, X, P, pi):\n",
    "\n",
    "        N, D, K = *X.shape, pi.size\n",
    "\n",
    "        log_likelihood = 0\n",
    "        for n in range(N):\n",
    "            x_likelihood = 0\n",
    "            for k in range(K):\n",
    "                component_joint = pi[k]\n",
    "                for d in range(D):\n",
    "                    component_joint *= (P[k, d]**X[n, d] * (1-P[k, d])**(1-X[n, d]))\n",
    "                x_likelihood += component_joint\n",
    "            log_likelihood += np.log(x_likelihood+1e-8)\n",
    "\n",
    "        return log_likelihood\n",
    "\n",
    "    def expectation(self, X, P, pi):\n",
    "\n",
    "        N, D, K = *X.shape, pi.size\n",
    "\n",
    "        P = 1 - smoothing(1-P, eps=1e-8)\n",
    "        R = np.zeros(shape=(N, K))\n",
    "        for n in range(N):\n",
    "            for k in range(K):\n",
    "                R[n, k] = pi[k]\n",
    "                for d in range(D):\n",
    "                    R[n, k] *= (P[k, d]**X[n, d] * (1-P[k, d])**(1-X[n, d]))\n",
    "            R[n] /= np.sum(R[n])\n",
    "        \n",
    "        return R\n",
    "\n",
    "    def maximisation(self, X, R):\n",
    "\n",
    "        P = np.divide(R.T @ X, smoothing(p=R.sum(axis=0), eps=1e-8).reshape(-1, 1))\n",
    "        pi = np.mean(R, axis=0)\n",
    "\n",
    "        return P, pi\n",
    "\n",
    "    def __call__(self, K, X, n_iterations, eps):\n",
    "\n",
    "        P = np.random.uniform(size=(K, X.shape[1]))\n",
    "        pi = np.ones(K) / K\n",
    "\n",
    "        log_ls = [self.log_likelihood(X=X, P=P, pi=pi)]\n",
    "\n",
    "        for i in range(n_iterations):\n",
    "            R = self.expectation(X=X, P=P, pi=pi)\n",
    "            P, pi = self.maximisation(X=X, R=R)\n",
    "            log_l = self.log_likelihood(X=X, P=P, pi=pi)\n",
    "            log_ls.append(log_l)\n",
    "            if log_ls[-1] - log_ls[-2] <= eps:\n",
    "                break\n",
    "\n",
    "        return P, pi, R, log_ls"
   ]
  },
  {
   "cell_type": "code",
   "execution_count": 4,
   "metadata": {},
   "outputs": [],
   "source": [
    "def plot_params(params, k, pi_k, fn):\n",
    "    fig, axs = plt.subplots()\n",
    "    axs.imshow(params)\n",
    "    for i in range(8):\n",
    "        for j in range(8):\n",
    "            axs.text(j, i, f'{params[i, j]:.3f}', \n",
    "                ha='center', va='center', color='black')\n",
    "    axs.set_xticks(np.arange(8)); axs.set_yticks(np.arange(8))\n",
    "    axs.set_title(fr'$\\pi_{({k+1})} = {pi_k:.6f}$')\n",
    "    fig.tight_layout()\n",
    "    if not os.path.exists(os.path.dirname(fn)):\n",
    "        os.makedirs(os.path.dirname(fn), exist_ok=True)\n",
    "    plt.savefig(fn)\n",
    "    plt.close(fig)"
   ]
  },
  {
   "cell_type": "code",
   "execution_count": 5,
   "metadata": {},
   "outputs": [
    {
     "name": "stderr",
     "output_type": "stream",
     "text": [
      "  0%|          | 0/5 [00:00<?, ?it/s]"
     ]
    },
    {
     "name": "stderr",
     "output_type": "stream",
     "text": [
      "100%|██████████| 5/5 [00:21<00:00,  4.31s/it]\n"
     ]
    }
   ],
   "source": [
    "Ks = (2, 3, 4, 7, 10)\n",
    "log_likelihoods_lst = list()\n",
    "for K in tqdm(Ks):\n",
    "    em = EMForMultivariateBernoulli()\n",
    "    P, pi, R, log_likelihoods = em(K=K, X=dataset, n_iterations=20, eps=1e-6)\n",
    "    log_likelihoods_lst.append(log_likelihoods)\n",
    "    for k in range(K):\n",
    "        plot_params(params=P[k].reshape(8, 8), k=k, pi_k=pi[k], fn=f'assets/em/K={K}/k={k+1}.png')"
   ]
  },
  {
   "cell_type": "code",
   "execution_count": 14,
   "metadata": {},
   "outputs": [],
   "source": [
    "fig, axs = plt.subplots(1, 1, figsize=(6, 4))\n",
    "for i, (K, log_ls) in enumerate(zip(Ks, log_likelihoods_lst)):\n",
    "    axs.plot(log_ls, marker='o', color=f'C{i}', label=f'K = {K}')\n",
    "axs.set_xlabel('Iteration Number')\n",
    "axs.set_ylabel('Log-likelihood')\n",
    "axs.grid()\n",
    "axs.legend()\n",
    "fig.tight_layout()\n",
    "plt.savefig(f'assets/em/log_ls.png')\n",
    "plt.close(fig)"
   ]
  },
  {
   "cell_type": "code",
   "execution_count": null,
   "metadata": {},
   "outputs": [],
   "source": []
  }
 ],
 "metadata": {
  "kernelspec": {
   "display_name": "base",
   "language": "python",
   "name": "python3"
  },
  "language_info": {
   "codemirror_mode": {
    "name": "ipython",
    "version": 3
   },
   "file_extension": ".py",
   "mimetype": "text/x-python",
   "name": "python",
   "nbconvert_exporter": "python",
   "pygments_lexer": "ipython3",
   "version": "3.8.8"
  }
 },
 "nbformat": 4,
 "nbformat_minor": 2
}
